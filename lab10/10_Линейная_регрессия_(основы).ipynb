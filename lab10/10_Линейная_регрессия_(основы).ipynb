{
  "nbformat": 4,
  "nbformat_minor": 0,
  "metadata": {
    "colab": {
      "provenance": []
    },
    "kernelspec": {
      "name": "python3",
      "display_name": "Python 3"
    },
    "language_info": {
      "name": "python"
    }
  },
  "cells": [
    {
      "cell_type": "markdown",
      "source": [
        "# Работа с моделями линейной регресии. Основы"
      ],
      "metadata": {
        "id": "POalnCx4fT6s"
      }
    },
    {
      "cell_type": "code",
      "execution_count": 1,
      "metadata": {
        "id": "X0CthoZYLo55"
      },
      "outputs": [],
      "source": [
        "# Подключение библиотек\n",
        "from math import ceil, floor\n",
        "import numpy as np\n",
        "from scipy import optimize as opt\n",
        "from matplotlib import pyplot as plt\n",
        "%matplotlib inline"
      ]
    },
    {
      "cell_type": "markdown",
      "source": [
        "## Первое знакомство с линейной регрессией\n",
        "\n",
        "**Обозначения**:\n",
        "\n",
        "$x \\; - \\; \\; $ объект, для которого требуется сделать предсказание;\n",
        "\n",
        "$y \\; - \\; \\; $ правильный ответ на объекте $x$;\n",
        "\n",
        "$X = (x_i, y_i)_{i=1}^l \\; - \\; \\; $ обучающая выборка;\n",
        "\n",
        "$\\bar x = (x^1, x^2, ... , x^d) \\; - \\; \\; $ признаковое описание объекта $x$;\n",
        "\n",
        "$a(x) \\; - \\; \\; $ модель (алгоритм обучения);\n",
        "\n",
        "$Q(a, X) \\; - \\; \\; $ функционал ошибки алгоритма $a$ на обучающей выборке $X$."
      ],
      "metadata": {
        "id": "VHADuLmFfu0J"
      }
    },
    {
      "cell_type": "markdown",
      "source": [
        "**Модель линейной регрессии**:\n",
        "$$a(x) = w_0 + w_1 \\cdot x^1 + w_2 \\cdot x^2 + ... + w_d \\cdot x^d \\;, $$\n",
        "где\n",
        "\n",
        "$w_0 \\; - \\; \\; $ свободный коэффициент (сдвиг, bias);\n",
        "\n",
        "$w_j, \\; \\; j = 1, 2, ... , d \\; \\; - $ коэффициенты (**веса**) признаков.\n",
        "\n",
        "\n",
        "***Обучение модели*** - задача минимизации $Q(\\bar w, X)$:  $$Q(\\bar w, X) \\; \\to \\; \\min\\limits_{\\bar w} \\; \\quad \\quad (*)$$\n",
        "т. е. нахождение таких коэффициентов $w_0, w_1, w_2, ... , w_d ,$ при которых функционал ошибки $Q(\\bar w, X)$ имеет наименьшее значение."
      ],
      "metadata": {
        "id": "K0uE8rqWr4Ih"
      }
    },
    {
      "cell_type": "markdown",
      "source": [
        "Для получения однородной модели вводят фиктивный константный признак $x^0$, который на каждом объекте принимает значение, равное 1.\n",
        "\n",
        "Тогда модель линейной регрессии может быть записана в более компактной форме:\n",
        "$$a(x) = \\sum_{j=0}^{d}{w_j \\cdot x^j} = \\langle \\bar w, \\bar x \\rangle \\;, $$\n",
        "где $\\langle \\bar w, \\bar x \\rangle \\; \\; - $ скалярное произведение вектора весов $\\bar w = (w_0, w_1, w_2, ... , w_d) \\;$ и вектора $\\bar x = (x^0, x^1, x^2, ... , x^d), \\; \\; x^0 = 1$ для всех объектов.\n",
        "\n",
        "Такой подход позволяет выполнять все вычисления в матричной форме, что (с учетом возможности распараллеливания) на больших наборах данных является намного более эффективным."
      ],
      "metadata": {
        "id": "TG9oeK1nt4IJ"
      }
    },
    {
      "cell_type": "markdown",
      "source": [
        "**Измерение ошибки**\n",
        "\n",
        "В качестве меры ошибки модели регрессии на одном объекте $x$ чаще всего используется квадрат отклонения $(a(x) - y)^2$;\n",
        "\n",
        "в качестве функционала ошибки $Q(a, X)$ - квадрат отклонения на одном объекте, усредненный по всей выборке.\n",
        "\n",
        "В этом случае для линейной модели\n",
        "$$Q(\\bar w, X) = \\frac 1 l \\sum_{i=1}^l(⟨ \\bar w, \\bar x_i ⟩ - y_i)^2 \\;. $$\n",
        "\n",
        "Такой способ измерения ошибки называется ***среднеквадратической ошибкой*** (Mean Squared Error, ***MSE***)."
      ],
      "metadata": {
        "id": "eDMsDuaO3JTc"
      }
    },
    {
      "cell_type": "markdown",
      "source": [
        "При использовании **MSE** задача (*) имеет аналитическое решение: оптимальный вектор весов может быть найден по формуле\n",
        "$$\\bar w_* = (X^T \\cdot X)^{-1} \\cdot X^T \\cdot \\bar y \\;. $$"
      ],
      "metadata": {
        "id": "9bXabPHwDLtz"
      }
    },
    {
      "cell_type": "markdown",
      "source": [
        "Проиллюстрируем построение линейной модели на учебном примере с одним входным признаком $x$ и прогнозируемым признаком $y. \\;$ В этом случае модель линейной регрессии имеет вид $ \\; a(x) = w_0 + w_1 \\cdot x \\;.$\n",
        "\n",
        "Создадим обучающую выборку: матрицу $X$ из одного столбца (значения признака $x$) и столбец правильных ответов $y$."
      ],
      "metadata": {
        "id": "4WnXNxvyF7qr"
      }
    },
    {
      "cell_type": "code",
      "execution_count": 2,
      "metadata": {
        "id": "Xp1RfrKgfM3W"
      },
      "outputs": [],
      "source": [
        "# Создание массива X и преобразование его к размерности (l, 1)\n",
        "X = np.array([1.5, 2, 3, 4.5, 7, 8]).reshape(-1, 1)"
      ]
    },
    {
      "cell_type": "code",
      "source": [
        "# Создание массива y и преобразование его к размерности (l, 1)\n",
        "y = np.array([5, 4.5, 8.5, 14, 16, 20]).reshape(-1, 1)"
      ],
      "metadata": {
        "id": "yuLRk8n0znud"
      },
      "execution_count": 3,
      "outputs": []
    },
    {
      "cell_type": "code",
      "source": [
        "# Визуализация выборки\n",
        "plt.scatter(X, y)\n",
        "plt.xlabel('x')\n",
        "plt.ylabel('y')\n",
        "plt.title('Модельная обучающая выборка')"
      ],
      "metadata": {
        "colab": {
          "base_uri": "https://localhost:8080/",
          "height": 489
        },
        "id": "zhDvETpFz4SD",
        "outputId": "be6c6f1c-f7c0-434a-dff0-f428135bd94b"
      },
      "execution_count": 4,
      "outputs": [
        {
          "output_type": "execute_result",
          "data": {
            "text/plain": [
              "Text(0.5, 1.0, 'Модельная обучающая выборка')"
            ]
          },
          "metadata": {},
          "execution_count": 4
        },
        {
          "output_type": "display_data",
          "data": {
            "text/plain": [
              "<Figure size 640x480 with 1 Axes>"
            ],
            "image/png": "[encoded data removed]"
          },
          "metadata": {}
        }
      ]
    },
    {
      "cell_type": "markdown",
      "source": [
        "По визуальному представлению можно предположить существование линейной зависимости между признаками.\n",
        "\n",
        "Найдем оптимальные значения весов аналитическим методом."
      ],
      "metadata": {
        "id": "zh-rmK4FJv2H"
      }
    },
    {
      "cell_type": "code",
      "source": [
        "# Создание единичного столбца - значений фиктивного признака\n",
        "Ones = np.ones(X.shape[0]).reshape(-1, 1)\n",
        "\n",
        "# Присоединение единичного столбца к X\n",
        "X_1 = np.hstack((Ones, X))"
      ],
      "metadata": {
        "id": "W2kl-ScSyacf"
      },
      "execution_count": 5,
      "outputs": []
    },
    {
      "cell_type": "code",
      "source": [
        "X_1"
      ],
      "metadata": {
        "colab": {
          "base_uri": "https://localhost:8080/"
        },
        "id": "zAfkcyCuzISQ",
        "outputId": "b21287da-3674-45b8-ab03-b21c452fa3bf"
      },
      "execution_count": 6,
      "outputs": [
        {
          "output_type": "execute_result",
          "data": {
            "text/plain": [
              "array([[1. , 1.5],\n",
              "       [1. , 2. ],\n",
              "       [1. , 3. ],\n",
              "       [1. , 4.5],\n",
              "       [1. , 7. ],\n",
              "       [1. , 8. ]])"
            ]
          },
          "metadata": {},
          "execution_count": 6
        }
      ]
    },
    {
      "cell_type": "code",
      "source": [
        "# Определение оптимальных весов аналитическим методом\n",
        "w = np.dot(np.dot(np.linalg.inv(np.dot(X_1.T, X_1)), X_1.T), y)\n",
        "w"
      ],
      "metadata": {
        "colab": {
          "base_uri": "https://localhost:8080/"
        },
        "id": "-sSiV_-z044H",
        "outputId": "8cb4fde0-13af-4392-e181-1a2efca64e38"
      },
      "execution_count": 7,
      "outputs": [
        {
          "output_type": "execute_result",
          "data": {
            "text/plain": [
              "array([[1.37674419],\n",
              "       [2.29767442]])"
            ]
          },
          "metadata": {},
          "execution_count": 7
        }
      ]
    },
    {
      "cell_type": "markdown",
      "source": [
        "Получена модель регрессии (коэффициенты округлены до 3 знаков после запятой):\n",
        "\n",
        "$a(x) = 1.377 + 2.298 \\cdot x \\;.$\n",
        "\n",
        "На практике требования к точности представления результатов определяются условиями конкретной задачи."
      ],
      "metadata": {
        "id": "PFQ7S2f_LQ32"
      }
    },
    {
      "cell_type": "markdown",
      "source": [
        "Можно получить предсказание модели на любом объекте выборки, а также на новом объекте (которого не было в обучающей выборке)."
      ],
      "metadata": {
        "id": "NnfN9U0fP10t"
      }
    },
    {
      "cell_type": "code",
      "source": [
        "# Прогноз модели на объекте с номером i\n",
        "i = 2\n",
        "a_i = w[0]+w[1]*X[i,0]\n",
        "print(\"Прогноз модели на объекте \" + str(X[i,0]) +\" равен\", a_i[0])\n",
        "\n",
        "# или (в матричной форме, с использованием фиктивного признака)\n",
        "a_i_ = np.dot(X_1[i], w)\n",
        "print(\"Прогноз модели на объекте \" + str(X[i,0]) +\" равен\", a_i_[0])\n",
        "\n",
        "# Прогноз модели на новом объекте\n",
        "x_new = 6\n",
        "a_x = w[0]+w[1]*x_new\n",
        "print(\"Прогноз модели на новом объекте \" + str(x_new) +\" равен\", a_x[0])"
      ],
      "metadata": {
        "colab": {
          "base_uri": "https://localhost:8080/"
        },
        "id": "XLH1U9fEVXyJ",
        "outputId": "4a58581f-f2c9-482d-d4ea-0389ced92c54"
      },
      "execution_count": 8,
      "outputs": [
        {
          "output_type": "stream",
          "name": "stdout",
          "text": [
            "Прогноз модели на объекте 3.0 равен 8.269767441860473\n",
            "Прогноз модели на объекте 3.0 равен 8.269767441860473\n",
            "Прогноз модели на новом объекте 6 равен 15.162790697674428\n"
          ]
        }
      ]
    },
    {
      "cell_type": "markdown",
      "source": [
        "Можно рассчитать ошибку модели на любом объекте выборки, а также среднеквадратичную ошибку по всей выборке."
      ],
      "metadata": {
        "id": "LFbbdN18UjNc"
      }
    },
    {
      "cell_type": "code",
      "source": [
        "# Ошибка модели на объекте с номером i\n",
        "\n",
        "i = 2\n",
        "err = (w[0]+w[1]*X[i,0] - y[i,0])**2\n",
        "print(\"Ошибка на объекте \" + str(X[i,0]) +\" равна\", err[0])\n",
        "\n",
        "i = 4\n",
        "err = (w[0]+w[1]*X[i,0] - y[i,0])**2\n",
        "print(\"Ошибка на объекте \" + str(X[i,0]) +\" равна\", err[0])\n",
        "\n",
        "# или (в матричной форме, с использованием фиктивного признака)\n",
        "err_ = np.square(np.dot(X_1[i], w) - y[i])\n",
        "print(\"Ошибка на объекте \" + str(X[i,0]) +\" равна\", err_[0])"
      ],
      "metadata": {
        "colab": {
          "base_uri": "https://localhost:8080/"
        },
        "id": "YsTqL5zPOV5X",
        "outputId": "6dc610b0-646d-4b5c-e349-907cecac4e94"
      },
      "execution_count": 9,
      "outputs": [
        {
          "output_type": "stream",
          "name": "stdout",
          "text": [
            "Ошибка на объекте 3.0 равна 0.05300703082747049\n",
            "Ошибка на объекте 7.0 равна 2.1329583558680714\n",
            "Ошибка на объекте 7.0 равна 2.1329583558680714\n"
          ]
        }
      ]
    },
    {
      "cell_type": "code",
      "source": [
        "# Среднеквадратичная ошибка по всей выборке\n",
        "Q = np.square(np.dot(X_1, w) - y).mean()\n",
        "print(\"Q = \", Q)"
      ],
      "metadata": {
        "colab": {
          "base_uri": "https://localhost:8080/"
        },
        "id": "nwP06EwuQaZD",
        "outputId": "3cbc25e7-b2f6-4f93-92c7-e35082a716b2"
      },
      "execution_count": 10,
      "outputs": [
        {
          "output_type": "stream",
          "name": "stdout",
          "text": [
            "Q =  1.6096899224806218\n"
          ]
        }
      ]
    },
    {
      "cell_type": "markdown",
      "source": [
        "Можно выполнить визуализацию полученной зависимости"
      ],
      "metadata": {
        "id": "uu1pwpZfZmrX"
      }
    },
    {
      "cell_type": "code",
      "source": [
        "# Определение значений аргумента x\n",
        "x_lin = np.linspace(0, 9, 10)\n",
        "\n",
        "# Определение прогнозов на основе полученного уравнения регрессии\n",
        "y_lin = w[0] + w[1]*x_lin"
      ],
      "metadata": {
        "id": "_ITDh4f12G-J"
      },
      "execution_count": 11,
      "outputs": []
    },
    {
      "cell_type": "code",
      "source": [
        "# Визуализация\n",
        "plt.scatter(X, y, label='Выборка')\n",
        "plt.plot(x_lin, y_lin, 'r', label='Модель')\n",
        "plt.xlabel('x')\n",
        "plt.ylabel('y')\n",
        "plt.xticks(X.reshape(X.shape[0],))\n",
        "plt.legend(loc=2)\n",
        "plt.title('Построение линейной регрессии')"
      ],
      "metadata": {
        "colab": {
          "base_uri": "https://localhost:8080/",
          "height": 489
        },
        "id": "rZmIa1m_2Duy",
        "outputId": "ce7fb3ed-c4dc-4c64-92a6-3794fe31de2a"
      },
      "execution_count": 12,
      "outputs": [
        {
          "output_type": "execute_result",
          "data": {
            "text/plain": [
              "Text(0.5, 1.0, 'Построение линейной регрессии')"
            ]
          },
          "metadata": {},
          "execution_count": 12
        },
        {
          "output_type": "display_data",
          "data": {
            "text/plain": [
              "<Figure size 640x480 with 1 Axes>"
            ],
            "image/png": "[encoded data removed]"
          },
          "metadata": {}
        }
      ]
    },
    {
      "cell_type": "markdown",
      "source": [
        "По графику видно, что ошибка модели на объекте $x_2 = 7$ действительно заметно превосходит ошибку на объекте $x_1 = 3$, как показали вычисления выше."
      ],
      "metadata": {
        "id": "d7i3b5wC6ht1"
      }
    },
    {
      "cell_type": "markdown",
      "source": [
        "На реальных данных аналитический метод решения задачи (*) практически неприменим. Причины:\n",
        "*  входные признаки могут быть зависимы, вследствие чего не гарантируется существование обратной матрицы;\n",
        "*  даже в случае ее существования обращение матрицы большой размерности может потребовать слишком много ресурсов.\n",
        "\n",
        "Поэтому на практике применяются итерационные методы: от некоторой начальной точки строится последовательность, приближающаяся к точке минимума функционала ошибки.\n",
        "\n",
        "Проиллюстрируем это на рассматриваемом учебном примере. Будем использовать функцию **minimize()** из модуля **optimize** библиотеки Scipy (знакомство с этой функцией должно было состояться при выполнении первой лабораторной работы)."
      ],
      "metadata": {
        "id": "dNhrihrfWQw_"
      }
    },
    {
      "cell_type": "code",
      "source": [
        "# Определение минимизируемой функции\n",
        "def Qw(w):\n",
        "  return np.square(np.dot(X_1, np.array(w).reshape(-1, 1)) - y).mean()"
      ],
      "metadata": {
        "id": "03g2M7ghaARo"
      },
      "execution_count": 13,
      "outputs": []
    },
    {
      "cell_type": "code",
      "source": [
        "# Поиск минимума из начальной точки (0, 0)\n",
        "w_min = opt.minimize(Qw, [0, 0])\n",
        "print(w_min)"
      ],
      "metadata": {
        "colab": {
          "base_uri": "https://localhost:8080/"
        },
        "id": "snpu1pehan5h",
        "outputId": "579d1bcb-c440-4a4f-fab4-a79644a35307"
      },
      "execution_count": 14,
      "outputs": [
        {
          "output_type": "stream",
          "name": "stdout",
          "text": [
            "  message: Optimization terminated successfully.\n",
            "  success: True\n",
            "   status: 0\n",
            "      fun: 1.6096899224806218\n",
            "        x: [ 1.377e+00  2.298e+00]\n",
            "      nit: 5\n",
            "      jac: [ 5.960e-08  3.129e-07]\n",
            " hess_inv: [[ 2.072e+00 -3.628e-01]\n",
            "            [-3.628e-01  8.369e-02]]\n",
            "     nfev: 18\n",
            "     njev: 6\n"
          ]
        }
      ]
    },
    {
      "cell_type": "markdown",
      "source": [
        "Видим, что алгоритм за 5 итераций нашел ту же точку минимума, которая была получена ранее аналитическим методом."
      ],
      "metadata": {
        "id": "oPQx1wT9eXMW"
      }
    },
    {
      "cell_type": "markdown",
      "source": [
        "В реальных задачах построения моделей прогнозирования таких простых приемов, как правило, оказывается недостаточно.\n",
        "\n",
        "Разработан обширный инструментарий, применение которого позволяет преодолевать проблемы, возникающие из-за возможных взаимосвязей входных признаков, снижать негативное влияние выбросов и т. д."
      ],
      "metadata": {
        "id": "m38KWNGQTB4m"
      }
    },
    {
      "cell_type": "markdown",
      "source": [
        "## Работа с моделями линейной регрессии в библиотеке **Scikit-learn**\n",
        "\n",
        "Библиотека **Scikit-learn (sklearn)** содержит инструментарий для создания, обучения и оценки качества моделей машинного обучения, а также множество дополнительных функций, необходимых для получения качественных моделей.\n",
        "\n",
        "Включает реализации большинства алгоритмов машинного обучения, известных на текущий момент.\n",
        "\n",
        "[Общее описание библиотеки](https://scikit-learn.org/stable/index.html)\n",
        "\n",
        "[Руководство пользователя (описание реализованных моделей и алгоритмов)](https://scikit-learn.org/stable/user_guide.html)\n",
        "\n",
        "[Документация основного инструментария](https://scikit-learn.org/stable/modules/classes.html)"
      ],
      "metadata": {
        "id": "G3hheB0bQbww"
      }
    },
    {
      "cell_type": "markdown",
      "source": [
        "### Генерация наборов данных. Модуль **datasets**\n",
        "Для изучения возможностей алгоритмов машинного обучения и понимания, каким образом работают многочисленные настройки этих алгоритмов, обычно используют модельные наборы данных. Это позволяет анализировать работу алгоритмов, не отвлекаясь на дополнительные проблемы, связанные с особенностями конкретных наборов данных в реальных задачах.\n",
        "\n",
        "Модуль **datasets** библиотеки Scikit-learn содержит\n",
        "*  встроенные наборы данных для создания моделей разных типов (получены на основе реальных данных, но предварительно подготовлены для учебных целей);\n",
        "*  генераторы для формирования модельных наборов с использованием псевдослучайных чисел.\n",
        "\n",
        "[Документация модуля](https://scikit-learn.org/stable/api/sklearn.datasets.html)\n",
        "\n",
        "[Описание встроенных наборов данных и генераторов](https://scikit-learn.org/stable/datasets.html#datasets)"
      ],
      "metadata": {
        "id": "xC051wGwajDl"
      }
    },
    {
      "cell_type": "markdown",
      "source": [
        "Подключение встроенного генератора имеет вид\n",
        "\n",
        "> **from sklearn.datasets import <имя генератора>**\n",
        "\n"
      ],
      "metadata": {
        "id": "SXO1Gj6OgMyl"
      }
    },
    {
      "cell_type": "markdown",
      "source": [
        "**Генерация набора данных для линейной регрессии**\n",
        "\n",
        "Метод **make_regression()** из модуля **datasets** генерирует набор данных, представляющий собой случайную линейную комбинацию случайных признаков с шумом:\n",
        " > для заданного количества признаков генерирует коэффициенты уравнения регрессии и добавляет шум - значения целевого признака рассеиваются относительно прогноза линейной модели.\n",
        "\n",
        "Возвращает сформированные\n",
        "-  значения признаков (входных и целевого);\n",
        "-  коэффициенты уравнения регрессии, использованные для расчета значений целевого признака (при установке параметра **coef=True**).\n",
        "\n",
        "В числе параметров метода (помимо *coef*):\n",
        "-  количество объектов в выборке,\n",
        "-  общее количество входных признаков,\n",
        "-  число информативных признаков (из общего количества),\n",
        "-  количество целевых переменных (по умолчанию 1),\n",
        "-  стандартное отклонение для нормального закона, определяющего шум,\n",
        "-  номер генератора случайных чисел (задается, если требуется воспроизводимость результатов),\n",
        "-  др.\n",
        "\n",
        "[Документация метода](https://scikit-learn.org/stable/modules/generated/sklearn.datasets.make_regression.html)\n",
        "\n",
        "Возможность создания неинформативных признаков при генерации набора позволяет имитировать ситуацию, когда в анализируемых данных присутствуют незначимые (\"шумовые\") или малозначимые признаки."
      ],
      "metadata": {
        "id": "7IR0RmgMg8Ol"
      }
    },
    {
      "cell_type": "markdown",
      "source": [
        "Сгенерируем набор данных из 100 объектов, которые характеризуются одним информативным (значимым) признаком и одним неинформативным (\"шумовым\").\n",
        "\n",
        "Для изучения особенностей работы алгоритмов при разных настройках рекомендуется фиксировать номер генератора случайных чисел, чтобы алгоритмы с разными настройками получали на вход один и тот же набор данных."
      ],
      "metadata": {
        "id": "NBBXGlVJtSuM"
      }
    },
    {
      "cell_type": "code",
      "source": [
        "from sklearn.datasets import make_regression"
      ],
      "metadata": {
        "id": "-Mcs4omTsn1L"
      },
      "execution_count": 15,
      "outputs": []
    },
    {
      "cell_type": "code",
      "source": [
        "# Без возвращения сгенерированных весов (по умолчанию coef=False)\n",
        "X, y = make_regression(n_samples=100, n_features=2, n_informative=1, noise=10, random_state=42)"
      ],
      "metadata": {
        "id": "9KbZkJ8Bszda"
      },
      "execution_count": 16,
      "outputs": []
    },
    {
      "cell_type": "code",
      "source": [
        "# Вывод первых 10 значений входных признаков\n",
        "X[:10]"
      ],
      "metadata": {
        "colab": {
          "base_uri": "https://localhost:8080/"
        },
        "id": "eQqQbvO5udo3",
        "outputId": "1a3ef426-2794-4b94-a456-af153552ad6f"
      },
      "execution_count": 17,
      "outputs": [
        {
          "output_type": "execute_result",
          "data": {
            "text/plain": [
              "array([[-1.41537074, -0.42064532],\n",
              "       [ 0.52194157,  0.29698467],\n",
              "       [-0.88951443, -0.81581028],\n",
              "       [-0.88385744,  0.15372511],\n",
              "       [ 0.73846658,  0.17136828],\n",
              "       [-0.26465683,  2.72016917],\n",
              "       [ 1.14282281,  0.75193303],\n",
              "       [ 0.36139561,  1.53803657],\n",
              "       [ 0.81252582,  1.35624003],\n",
              "       [-0.22346279,  0.71400049]])"
            ]
          },
          "metadata": {},
          "execution_count": 17
        }
      ]
    },
    {
      "cell_type": "code",
      "source": [
        "# Вывод первых 10 значений целевого признака\n",
        "y[:10]"
      ],
      "metadata": {
        "colab": {
          "base_uri": "https://localhost:8080/"
        },
        "id": "i9rqcM5GwFRt",
        "outputId": "80a506cd-31f3-4268-b636-0abb3b39764d"
      },
      "execution_count": 18,
      "outputs": [
        {
          "output_type": "execute_result",
          "data": {
            "text/plain": [
              "array([-120.40785493,   52.26537445,  -75.96761815,  -95.42398751,\n",
              "         64.39470776,  -26.77516429,   90.94227978,   39.99553703,\n",
              "         95.17918726,  -15.98588392])"
            ]
          },
          "metadata": {},
          "execution_count": 18
        }
      ]
    },
    {
      "cell_type": "markdown",
      "source": [
        "Сгенерированные коэффициенты уравнения регрессии (веса признаков) недоступны.\n",
        "\n",
        "Для получения этих коэффициентов надо задать *coef=True* и указать имя соответствующего объекта."
      ],
      "metadata": {
        "id": "nKRsG-WSw3rE"
      }
    },
    {
      "cell_type": "code",
      "source": [
        "# С возвращением сгенерированных весов\n",
        "X, y, coef = make_regression(n_samples=100, n_features=2, n_informative=1, noise=10, coef=True, random_state=42)"
      ],
      "metadata": {
        "id": "-KdRFQcDvi44"
      },
      "execution_count": 19,
      "outputs": []
    },
    {
      "cell_type": "code",
      "source": [
        "X[:10]"
      ],
      "metadata": {
        "colab": {
          "base_uri": "https://localhost:8080/"
        },
        "id": "JTtU6tsjwcBm",
        "outputId": "0e677c7b-9922-4bf7-e084-511ce5c3fcb2"
      },
      "execution_count": 20,
      "outputs": [
        {
          "output_type": "execute_result",
          "data": {
            "text/plain": [
              "array([[-1.41537074, -0.42064532],\n",
              "       [ 0.52194157,  0.29698467],\n",
              "       [-0.88951443, -0.81581028],\n",
              "       [-0.88385744,  0.15372511],\n",
              "       [ 0.73846658,  0.17136828],\n",
              "       [-0.26465683,  2.72016917],\n",
              "       [ 1.14282281,  0.75193303],\n",
              "       [ 0.36139561,  1.53803657],\n",
              "       [ 0.81252582,  1.35624003],\n",
              "       [-0.22346279,  0.71400049]])"
            ]
          },
          "metadata": {},
          "execution_count": 20
        }
      ]
    },
    {
      "cell_type": "code",
      "source": [
        "y[:10]"
      ],
      "metadata": {
        "colab": {
          "base_uri": "https://localhost:8080/"
        },
        "id": "R6rhsrIzwlQd",
        "outputId": "fa251131-d46e-4c6c-c92a-883d7e8e15b4"
      },
      "execution_count": 21,
      "outputs": [
        {
          "output_type": "execute_result",
          "data": {
            "text/plain": [
              "array([-120.40785493,   52.26537445,  -75.96761815,  -95.42398751,\n",
              "         64.39470776,  -26.77516429,   90.94227978,   39.99553703,\n",
              "         95.17918726,  -15.98588392])"
            ]
          },
          "metadata": {},
          "execution_count": 21
        }
      ]
    },
    {
      "cell_type": "markdown",
      "source": [
        "Благодаря заданию *random_state* получены те же значения признаков.\n",
        "\n",
        "Можно вывести сгенерированные коэффициенты уравнения регрессии."
      ],
      "metadata": {
        "id": "lRmbQru9x1aL"
      }
    },
    {
      "cell_type": "code",
      "source": [
        "coef"
      ],
      "metadata": {
        "colab": {
          "base_uri": "https://localhost:8080/"
        },
        "id": "b_xwbrH8yHnV",
        "outputId": "ba12c282-14b5-43b1-f7d6-1966898a171c"
      },
      "execution_count": 22,
      "outputs": [
        {
          "output_type": "execute_result",
          "data": {
            "text/plain": [
              "array([87.73730719,  0.        ])"
            ]
          },
          "metadata": {},
          "execution_count": 22
        }
      ]
    },
    {
      "cell_type": "markdown",
      "source": [
        "Сгенерированное уравнение регрессии имеет вид $\\quad a(x) = 87.737 \\cdot x^1 + 0 \\cdot x^2 \\;.$\n",
        "\n",
        "Неинформативный признак получает нулевой коэффициент.\n",
        "\n",
        "*Замечание.* Какие именно признаки (из общего числа) будут \"назначены\" информативными, а какие нет, определяется случайным образом. При тех же настройках, но с другим значением *random_state* информативным может оказаться второй признак, а не первый. Упражнение: проверить это самостоятельно."
      ],
      "metadata": {
        "id": "E25MiSd9yKQM"
      }
    },
    {
      "cell_type": "markdown",
      "source": [
        "Выполним визуализацию полученной выборки в осях координат\n",
        "*  информативный признак - целевой признак,\n",
        "*  неинформативный признак - целевой признак."
      ],
      "metadata": {
        "id": "GrOS7hqJ0HSP"
      }
    },
    {
      "cell_type": "code",
      "source": [
        "fig, axes = plt.subplots(nrows = 1, ncols = 2, figsize = (10, 4))\n",
        "i = 0\n",
        "for ax in axes:\n",
        "    ax.scatter(X[:, i], y)\n",
        "    ax.set_xlabel('$x^%s$' % (i+1))\n",
        "    ax.set_ylabel('$y$')\n",
        "    i += 1\n",
        "axes[0].set_title('Зависимость \\n\"информативный признак - целевой признак\"')\n",
        "axes[1].set_title('Зависимость \\n\"неинформативный признак - целевой признак\"')\n",
        "fig.tight_layout()"
      ],
      "metadata": {
        "colab": {
          "base_uri": "https://localhost:8080/",
          "height": 407
        },
        "id": "k5Dlp4kizxE4",
        "outputId": "7e1f570d-679e-4503-ddc4-81a81fa4be2b"
      },
      "execution_count": 23,
      "outputs": [
        {
          "output_type": "display_data",
          "data": {
            "text/plain": [
              "<Figure size 1000x400 with 2 Axes>"
            ],
            "image/png": "[encoded data removed]"
          },
          "metadata": {}
        }
      ]
    },
    {
      "cell_type": "markdown",
      "source": [
        "### Разделение выборки на обучающий и тестовый набор данных\n",
        "Для получения правильного представления о качестве прогнозов, получаемых с помощью модели машинного обучения, необходимо оценивать качество прогнозов не только на тех данных, на которых модель обучалась, но и на \"новых\" данных (новых для модели), которые не участвовали в процессе обучения.\n",
        "\n",
        "Поэтому в практике создания моделей машинного обучения весь имеющийся набор данных (dataset) разбивается на 2 части:\n",
        "*  обучающие данные (*train data*, обучающая выборка),\n",
        "*  тестовые данные (*test data*, тестовая (или \"отложенная\") выборка).\n",
        "\n",
        "В построении модели участвуют только обучающие данные (тестовая выборка \"отложена в сторону\").\n",
        "\n",
        "Окончательная оценка качества прогнозов обученной модели выполняется на тестовых данных.\n",
        "\n",
        "*Замечание*. Строго говоря, более \"продвинутой\" схемой оценки качества моделей является применение кросс-валидации (используется многократное разбиение данных на обучающие и тестовые). Рассмотрение стратегий кросс-валидации выходит за рамки данного курса."
      ],
      "metadata": {
        "id": "j_YkNMlj3PXH"
      }
    },
    {
      "cell_type": "markdown",
      "source": [
        "Инструментарий для грамотного разделения данных на обучающие и тестовые реализован в модуле **model_selection** библиотеки Scikit-learn.\n",
        "\n",
        "Этом модуль содержит инструменты как для однократного разбиения данных, так и для реализации различных стратегий кросс-валидации.\n",
        "\n",
        "[Документация модуля](https://scikit-learn.org/stable/api/sklearn.model_selection.html)\n",
        "\n",
        "Однократное разбиение набора данных на обучающую и тестовую выборку выполняется с помощью функции **train_test_split()**.\n",
        "\n",
        "Среди основных параметров функции:\n",
        "*  исходный набор данных (входные признаки),\n",
        "*  исходный набор меток (ответов),\n",
        "*  доля объектов, откладываемых в тестовую выборку,\n",
        "*  номер генератора случайных чисел (если требуется воспроизводимость результатов),\n",
        "*  др.\n",
        "\n",
        "Функция возвращает 4 объекта:\n",
        "*  обучающий набор данных (входные признаки),\n",
        "*  обучающий набор меток (ответов),\n",
        "*  тестовый набор данных (входные признаки),\n",
        "*  тестовый набор меток (ответов).\n",
        "\n",
        "[Документация функции](https://scikit-learn.org/stable/modules/generated/sklearn.model_selection.train_test_split.html#sklearn.model_selection.train_test_split)"
      ],
      "metadata": {
        "id": "uH2MKFB58UKR"
      }
    },
    {
      "cell_type": "markdown",
      "source": [
        "Выполним разбиение сгенерированного выше набора данных на обучающую и тестовую выборки."
      ],
      "metadata": {
        "id": "vaelgudhAaz-"
      }
    },
    {
      "cell_type": "code",
      "source": [
        "from sklearn.model_selection import train_test_split"
      ],
      "metadata": {
        "id": "k3C3EPSRAkq5"
      },
      "execution_count": 24,
      "outputs": []
    },
    {
      "cell_type": "code",
      "source": [
        "X_train, X_test, y_train, y_test = train_test_split(X, y, test_size=0.2, random_state=42)"
      ],
      "metadata": {
        "id": "M-Mn-ITbz0On"
      },
      "execution_count": 25,
      "outputs": []
    },
    {
      "cell_type": "code",
      "source": [
        "# Обучающая выборка (входные признаки)\n",
        "print(X_train.shape)\n",
        "print(X_train[:10])"
      ],
      "metadata": {
        "colab": {
          "base_uri": "https://localhost:8080/"
        },
        "id": "THo4ZSStBm4D",
        "outputId": "3eceddd3-a4bc-456e-bbb7-7cecaba2f498"
      },
      "execution_count": 26,
      "outputs": [
        {
          "output_type": "stream",
          "name": "stdout",
          "text": [
            "(80, 2)\n",
            "[[-0.46947439  0.54256004]\n",
            " [ 0.33126343  0.97554513]\n",
            " [ 0.58685709  2.19045563]\n",
            " [-2.6197451   0.8219025 ]\n",
            " [ 0.34361829 -1.76304016]\n",
            " [-1.60748323  0.18463386]\n",
            " [-0.24538812 -0.75373616]\n",
            " [ 1.40279431 -1.40185106]\n",
            " [-0.22346279  0.71400049]\n",
            " [-0.60170661  1.85227818]]\n"
          ]
        }
      ]
    },
    {
      "cell_type": "code",
      "source": [
        "# Тестовая выборка (входные признаки)\n",
        "print(X_test.shape)\n",
        "print(X_test[:10])"
      ],
      "metadata": {
        "colab": {
          "base_uri": "https://localhost:8080/"
        },
        "id": "fqVdXFJEB3Xk",
        "outputId": "039ae101-9e8f-4f10-af3d-50096fd1c4df"
      },
      "execution_count": 27,
      "outputs": [
        {
          "output_type": "stream",
          "name": "stdout",
          "text": [
            "(20, 2)\n",
            "[[-0.03471177 -1.16867804]\n",
            " [-1.06230371  0.47359243]\n",
            " [-0.97468167  0.7870846 ]\n",
            " [-0.90802408 -1.4123037 ]\n",
            " [ 0.91540212  0.32875111]\n",
            " [ 0.09176078 -1.98756891]\n",
            " [ 1.57921282  0.76743473]\n",
            " [ 0.47323762 -0.07282891]\n",
            " [-1.10633497 -1.19620662]\n",
            " [-1.41537074 -0.42064532]]\n"
          ]
        }
      ]
    },
    {
      "cell_type": "code",
      "source": [
        "# Обучающая выборка (целевой признак)\n",
        "print(y_train.shape)\n",
        "print(y_train[:10])"
      ],
      "metadata": {
        "colab": {
          "base_uri": "https://localhost:8080/"
        },
        "id": "j5yWhdPnB-6V",
        "outputId": "48dab5c5-84d2-4793-8cc1-74684f1a4c7c"
      },
      "execution_count": 28,
      "outputs": [
        {
          "output_type": "stream",
          "name": "stdout",
          "text": [
            "(80,)\n",
            "[ -32.13919882   30.34967144   31.5396454  -225.4286408    26.00282538\n",
            " -131.93886861  -26.39402018  122.02621034  -15.98588392  -51.03030866]\n"
          ]
        }
      ]
    },
    {
      "cell_type": "code",
      "source": [
        "# Тестовая выборка (целевой признак)\n",
        "print(y_test.shape)\n",
        "print(y_test[:10])"
      ],
      "metadata": {
        "colab": {
          "base_uri": "https://localhost:8080/"
        },
        "id": "trLmYkkPCUTC",
        "outputId": "dbf61768-145b-4791-c828-92a4bd67d158"
      },
      "execution_count": 29,
      "outputs": [
        {
          "output_type": "stream",
          "name": "stdout",
          "text": [
            "(20,)\n",
            "[  -3.23993861  -94.48778873  -78.64745999  -70.94844736   96.92793411\n",
            "    1.76514596  152.37592596   47.33373618 -109.77556954 -120.40785493]\n"
          ]
        }
      ]
    },
    {
      "cell_type": "code",
      "source": [
        "# Визуализация\n",
        "\n",
        "# Обучающие данные\n",
        "fig, axes = plt.subplots(nrows = 1, ncols = 2, figsize = (10, 4))\n",
        "i = 0\n",
        "for ax in axes:\n",
        "    ax.scatter(X_train[:, i], y_train)\n",
        "    ax.set_xlabel('$x^%s$' % (i+1))\n",
        "    ax.set_ylabel('$y$')\n",
        "    i += 1\n",
        "axes[0].set_title('Обучающая выборка \\n\"информативный признак - целевой признак\"')\n",
        "axes[1].set_title('Обучающая выборка \\n\"неинформативный признак - целевой признак\"')\n",
        "fig.tight_layout()\n",
        "\n",
        "# Тестовые данные\n",
        "fig, axes = plt.subplots(nrows = 1, ncols = 2, figsize = (10, 4))\n",
        "i = 0\n",
        "for ax in axes:\n",
        "    ax.scatter(X_test[:, i], y_test)\n",
        "    ax.set_xlabel('$x^%s$' % (i+1))\n",
        "    ax.set_ylabel('$y$')\n",
        "    i += 1\n",
        "axes[0].set_title('Тестовая выборка \\n\"информативный признак - целевой признак\"')\n",
        "axes[1].set_title('Тестовая выборка \\n\"неинформативный признак - целевой признак\"')\n",
        "fig.tight_layout()"
      ],
      "metadata": {
        "colab": {
          "base_uri": "https://localhost:8080/",
          "height": 797
        },
        "outputId": "c5292a98-5fbe-4c9c-d4f5-2eea83610035",
        "id": "YXMOYE3aFBaC"
      },
      "execution_count": 30,
      "outputs": [
        {
          "output_type": "display_data",
          "data": {
            "text/plain": [
              "<Figure size 1000x400 with 2 Axes>"
            ],
            "image/png": "[encoded data removed]"
          },
          "metadata": {}
        },
        {
          "output_type": "display_data",
          "data": {
            "text/plain": [
              "<Figure size 1000x400 with 2 Axes>"
            ],
            "image/png": "[encoded data removed]"
          },
          "metadata": {}
        }
      ]
    },
    {
      "cell_type": "markdown",
      "source": [
        "Как видим, весь сгенерированный ранее набор (X, y) разбит на обучающие и тестовые данные в соотношении 80:20 (в соответствии с установленным значением параметра **test_size**).\n",
        "\n",
        "Перед разбиением данные были перемешаны (по умолчанию **shuffle=True**).\n",
        "\n",
        "Теперь можно использовать обучающий набор (X_train, y_train) для построения модели регрессии."
      ],
      "metadata": {
        "id": "O71wcI_BCcHs"
      }
    },
    {
      "cell_type": "markdown",
      "source": [
        "### Создание и обучение моделей линейной регрессии\n",
        "Инструментарий для создания и обучения линейных моделей (как регрессии, так и классификации) реализован в модуле **linear_model** библиотеки Scikit-learn.\n",
        "\n",
        "[Документация модуля](https://scikit-learn.org/stable/api/sklearn.linear_model.html)\n",
        "\n",
        "[Описания моделей и примеры](https://scikit-learn.org/stable/modules/linear_model.html)\n",
        "\n",
        "Работа с моделями реализована в многочисленных классах данного модуля. Разные классы предназначены для работы с моделями разных типов, а также отличаются своей функциональностью.\n",
        "\n",
        "В данном курсе будут рассмотрены только наиболее простые инструменты."
      ],
      "metadata": {
        "id": "eBWJaTOoE7du"
      }
    },
    {
      "cell_type": "markdown",
      "source": [
        "Действия по построению моделей любых типов с помощью инструментария Scikit-learn выполняются по одной и той же схеме.\n",
        "1.   Создание объекта-модели (экземпляра соответствующего класса с выбранными настройками).\n",
        "2.   Обучение модели на обучающих данных - применение метода **fit()** к созданной в п. 1 модели с указанием данных, на которых должна обучаться модель. Значения весов признаков, вычисляемые в процессе обучения, сохраняются во внутренних переменных класса; по завершению обучения они доступны через атрибуты класса.\n",
        "3.   Получение предсказаний модели (на обучающих и тестовых данных) - применение метода **predict()** к обученной ранее модели с указанием данных, для которых нужно рассчитать прогноз.\n",
        "\n"
      ],
      "metadata": {
        "id": "htz6LENENW3Y"
      }
    },
    {
      "cell_type": "markdown",
      "source": [
        "Класс **LinearRegression** предназначен для создания самых простых моделей линейной регрессии, поэтому он имеет совсем немного настроек. Обучение модели в этом классе может выполняться только на основе **MSE**.\n",
        "\n",
        "[Документация класса](https://scikit-learn.org/stable/modules/generated/sklearn.linear_model.LinearRegression.html#sklearn.linear_model.LinearRegression)\n",
        "\n",
        "В классе имеются атрибуты **coef_** и **intercept_**, которые позволяют получить, соответственно, веса признаков и свободный коэффициент (bias), найденные по результатам обучения модели.\n",
        "\n",
        "**!!!** Еще раз: свободный коэффициент хранится в отдельном атрибуте. Не следует об этом забывать."
      ],
      "metadata": {
        "id": "9ThFauffPlEy"
      }
    },
    {
      "cell_type": "markdown",
      "source": [
        "Создадим простейшую модель линейной регрессии и обучим ее на сформированной ранее обучающей выборке (X_train, y_train)."
      ],
      "metadata": {
        "id": "QYYsQbyhU_HO"
      }
    },
    {
      "cell_type": "code",
      "source": [
        "from sklearn.linear_model import LinearRegression"
      ],
      "metadata": {
        "id": "ltR01YbqCzjZ"
      },
      "execution_count": 31,
      "outputs": []
    },
    {
      "cell_type": "code",
      "source": [
        "# Создание объекта-модели (экземпляра класса с настройками по умолчанию)\n",
        "model = LinearRegression()"
      ],
      "metadata": {
        "id": "p0eelrvEViFL"
      },
      "execution_count": 32,
      "outputs": []
    },
    {
      "cell_type": "code",
      "source": [
        "# Обучение модели на обучающих данных\n",
        "model.fit(X_train, y_train)"
      ],
      "metadata": {
        "colab": {
          "base_uri": "https://localhost:8080/",
          "height": 80
        },
        "id": "nZEpxVudXFaB",
        "outputId": "d71d6d19-6be6-4fc0-f911-4bc7d49aaf23"
      },
      "execution_count": 33,
      "outputs": [
        {
          "output_type": "execute_result",
          "data": {
            "text/plain": [
              "LinearRegression()"
            ],
            "text/html": [
              "<style>#sk-container-id-1 {\n",
              "  /* Definition of color scheme common for light and dark mode */\n",
              "  --sklearn-color-text: #000;\n",
              "  --sklearn-color-text-muted: #666;\n",
              "  --sklearn-color-line: gray;\n",
              "  /* Definition of color scheme for unfitted estimators */\n",
              "  --sklearn-color-unfitted-level-0: #fff5e6;\n",
              "  --sklearn-color-unfitted-level-1: #f6e4d2;\n",
              "  --sklearn-color-unfitted-level-2: #ffe0b3;\n",
              "  --sklearn-color-unfitted-level-3: chocolate;\n",
              "  /* Definition of color scheme for fitted estimators */\n",
              "  --sklearn-color-fitted-level-0: #f0f8ff;\n",
              "  --sklearn-color-fitted-level-1: #d4ebff;\n",
              "  --sklearn-color-fitted-level-2: #b3dbfd;\n",
              "  --sklearn-color-fitted-level-3: cornflowerblue;\n",
              "\n",
              "  /* Specific color for light theme */\n",
              "  --sklearn-color-text-on-default-background: var(--sg-text-color, var(--theme-code-foreground, var(--jp-content-font-color1, black)));\n",
              "  --sklearn-color-background: var(--sg-background-color, var(--theme-background, var(--jp-layout-color0, white)));\n",
              "  --sklearn-color-border-box: var(--sg-text-color, var(--theme-code-foreground, var(--jp-content-font-color1, black)));\n",
              "  --sklearn-color-icon: #696969;\n",
              "\n",
              "  @media (prefers-color-scheme: dark) {\n",
              "    /* Redefinition of color scheme for dark theme */\n",
              "    --sklearn-color-text-on-default-background: var(--sg-text-color, var(--theme-code-foreground, var(--jp-content-font-color1, white)));\n",
              "    --sklearn-color-background: var(--sg-background-color, var(--theme-background, var(--jp-layout-color0, #111)));\n",
              "    --sklearn-color-border-box: var(--sg-text-color, var(--theme-code-foreground, var(--jp-content-font-color1, white)));\n",
              "    --sklearn-color-icon: #878787;\n",
              "  }\n",
              "}\n",
              "\n",
              "#sk-container-id-1 {\n",
              "  color: var(--sklearn-color-text);\n",
              "}\n",
              "\n",
              "#sk-container-id-1 pre {\n",
              "  padding: 0;\n",
              "}\n",
              "\n",
              "#sk-container-id-1 input.sk-hidden--visually {\n",
              "  border: 0;\n",
              "  clip: rect(1px 1px 1px 1px);\n",
              "  clip: rect(1px, 1px, 1px, 1px);\n",
              "  height: 1px;\n",
              "  margin: -1px;\n",
              "  overflow: hidden;\n",
              "  padding: 0;\n",
              "  position: absolute;\n",
              "  width: 1px;\n",
              "}\n",
              "\n",
              "#sk-container-id-1 div.sk-dashed-wrapped {\n",
              "  border: 1px dashed var(--sklearn-color-line);\n",
              "  margin: 0 0.4em 0.5em 0.4em;\n",
              "  box-sizing: border-box;\n",
              "  padding-bottom: 0.4em;\n",
              "  background-color: var(--sklearn-color-background);\n",
              "}\n",
              "\n",
              "#sk-container-id-1 div.sk-container {\n",
              "  /* jupyter's `normalize.less` sets `[hidden] { display: none; }`\n",
              "     but bootstrap.min.css set `[hidden] { display: none !important; }`\n",
              "     so we also need the `!important` here to be able to override the\n",
              "     default hidden behavior on the sphinx rendered scikit-learn.org.\n",
              "     See: https://github.com/scikit-learn/scikit-learn/issues/21755 */\n",
              "  display: inline-block !important;\n",
              "  position: relative;\n",
              "}\n",
              "\n",
              "#sk-container-id-1 div.sk-text-repr-fallback {\n",
              "  display: none;\n",
              "}\n",
              "\n",
              "div.sk-parallel-item,\n",
              "div.sk-serial,\n",
              "div.sk-item {\n",
              "  /* draw centered vertical line to link estimators */\n",
              "  background-image: linear-gradient(var(--sklearn-color-text-on-default-background), var(--sklearn-color-text-on-default-background));\n",
              "  background-size: 2px 100%;\n",
              "  background-repeat: no-repeat;\n",
              "  background-position: center center;\n",
              "}\n",
              "\n",
              "/* Parallel-specific style estimator block */\n",
              "\n",
              "#sk-container-id-1 div.sk-parallel-item::after {\n",
              "  content: \"\";\n",
              "  width: 100%;\n",
              "  border-bottom: 2px solid var(--sklearn-color-text-on-default-background);\n",
              "  flex-grow: 1;\n",
              "}\n",
              "\n",
              "#sk-container-id-1 div.sk-parallel {\n",
              "  display: flex;\n",
              "  align-items: stretch;\n",
              "  justify-content: center;\n",
              "  background-color: var(--sklearn-color-background);\n",
              "  position: relative;\n",
              "}\n",
              "\n",
              "#sk-container-id-1 div.sk-parallel-item {\n",
              "  display: flex;\n",
              "  flex-direction: column;\n",
              "}\n",
              "\n",
              "#sk-container-id-1 div.sk-parallel-item:first-child::after {\n",
              "  align-self: flex-end;\n",
              "  width: 50%;\n",
              "}\n",
              "\n",
              "#sk-container-id-1 div.sk-parallel-item:last-child::after {\n",
              "  align-self: flex-start;\n",
              "  width: 50%;\n",
              "}\n",
              "\n",
              "#sk-container-id-1 div.sk-parallel-item:only-child::after {\n",
              "  width: 0;\n",
              "}\n",
              "\n",
              "/* Serial-specific style estimator block */\n",
              "\n",
              "#sk-container-id-1 div.sk-serial {\n",
              "  display: flex;\n",
              "  flex-direction: column;\n",
              "  align-items: center;\n",
              "  background-color: var(--sklearn-color-background);\n",
              "  padding-right: 1em;\n",
              "  padding-left: 1em;\n",
              "}\n",
              "\n",
              "\n",
              "/* Toggleable style: style used for estimator/Pipeline/ColumnTransformer box that is\n",
              "clickable and can be expanded/collapsed.\n",
              "- Pipeline and ColumnTransformer use this feature and define the default style\n",
              "- Estimators will overwrite some part of the style using the `sk-estimator` class\n",
              "*/\n",
              "\n",
              "/* Pipeline and ColumnTransformer style (default) */\n",
              "\n",
              "#sk-container-id-1 div.sk-toggleable {\n",
              "  /* Default theme specific background. It is overwritten whether we have a\n",
              "  specific estimator or a Pipeline/ColumnTransformer */\n",
              "  background-color: var(--sklearn-color-background);\n",
              "}\n",
              "\n",
              "/* Toggleable label */\n",
              "#sk-container-id-1 label.sk-toggleable__label {\n",
              "  cursor: pointer;\n",
              "  display: flex;\n",
              "  width: 100%;\n",
              "  margin-bottom: 0;\n",
              "  padding: 0.5em;\n",
              "  box-sizing: border-box;\n",
              "  text-align: center;\n",
              "  align-items: start;\n",
              "  justify-content: space-between;\n",
              "  gap: 0.5em;\n",
              "}\n",
              "\n",
              "#sk-container-id-1 label.sk-toggleable__label .caption {\n",
              "  font-size: 0.6rem;\n",
              "  font-weight: lighter;\n",
              "  color: var(--sklearn-color-text-muted);\n",
              "}\n",
              "\n",
              "#sk-container-id-1 label.sk-toggleable__label-arrow:before {\n",
              "  /* Arrow on the left of the label */\n",
              "  content: \"▸\";\n",
              "  float: left;\n",
              "  margin-right: 0.25em;\n",
              "  color: var(--sklearn-color-icon);\n",
              "}\n",
              "\n",
              "#sk-container-id-1 label.sk-toggleable__label-arrow:hover:before {\n",
              "  color: var(--sklearn-color-text);\n",
              "}\n",
              "\n",
              "/* Toggleable content - dropdown */\n",
              "\n",
              "#sk-container-id-1 div.sk-toggleable__content {\n",
              "  max-height: 0;\n",
              "  max-width: 0;\n",
              "  overflow: hidden;\n",
              "  text-align: left;\n",
              "  /* unfitted */\n",
              "  background-color: var(--sklearn-color-unfitted-level-0);\n",
              "}\n",
              "\n",
              "#sk-container-id-1 div.sk-toggleable__content.fitted {\n",
              "  /* fitted */\n",
              "  background-color: var(--sklearn-color-fitted-level-0);\n",
              "}\n",
              "\n",
              "#sk-container-id-1 div.sk-toggleable__content pre {\n",
              "  margin: 0.2em;\n",
              "  border-radius: 0.25em;\n",
              "  color: var(--sklearn-color-text);\n",
              "  /* unfitted */\n",
              "  background-color: var(--sklearn-color-unfitted-level-0);\n",
              "}\n",
              "\n",
              "#sk-container-id-1 div.sk-toggleable__content.fitted pre {\n",
              "  /* unfitted */\n",
              "  background-color: var(--sklearn-color-fitted-level-0);\n",
              "}\n",
              "\n",
              "#sk-container-id-1 input.sk-toggleable__control:checked~div.sk-toggleable__content {\n",
              "  /* Expand drop-down */\n",
              "  max-height: 200px;\n",
              "  max-width: 100%;\n",
              "  overflow: auto;\n",
              "}\n",
              "\n",
              "#sk-container-id-1 input.sk-toggleable__control:checked~label.sk-toggleable__label-arrow:before {\n",
              "  content: \"▾\";\n",
              "}\n",
              "\n",
              "/* Pipeline/ColumnTransformer-specific style */\n",
              "\n",
              "#sk-container-id-1 div.sk-label input.sk-toggleable__control:checked~label.sk-toggleable__label {\n",
              "  color: var(--sklearn-color-text);\n",
              "  background-color: var(--sklearn-color-unfitted-level-2);\n",
              "}\n",
              "\n",
              "#sk-container-id-1 div.sk-label.fitted input.sk-toggleable__control:checked~label.sk-toggleable__label {\n",
              "  background-color: var(--sklearn-color-fitted-level-2);\n",
              "}\n",
              "\n",
              "/* Estimator-specific style */\n",
              "\n",
              "/* Colorize estimator box */\n",
              "#sk-container-id-1 div.sk-estimator input.sk-toggleable__control:checked~label.sk-toggleable__label {\n",
              "  /* unfitted */\n",
              "  background-color: var(--sklearn-color-unfitted-level-2);\n",
              "}\n",
              "\n",
              "#sk-container-id-1 div.sk-estimator.fitted input.sk-toggleable__control:checked~label.sk-toggleable__label {\n",
              "  /* fitted */\n",
              "  background-color: var(--sklearn-color-fitted-level-2);\n",
              "}\n",
              "\n",
              "#sk-container-id-1 div.sk-label label.sk-toggleable__label,\n",
              "#sk-container-id-1 div.sk-label label {\n",
              "  /* The background is the default theme color */\n",
              "  color: var(--sklearn-color-text-on-default-background);\n",
              "}\n",
              "\n",
              "/* On hover, darken the color of the background */\n",
              "#sk-container-id-1 div.sk-label:hover label.sk-toggleable__label {\n",
              "  color: var(--sklearn-color-text);\n",
              "  background-color: var(--sklearn-color-unfitted-level-2);\n",
              "}\n",
              "\n",
              "/* Label box, darken color on hover, fitted */\n",
              "#sk-container-id-1 div.sk-label.fitted:hover label.sk-toggleable__label.fitted {\n",
              "  color: var(--sklearn-color-text);\n",
              "  background-color: var(--sklearn-color-fitted-level-2);\n",
              "}\n",
              "\n",
              "/* Estimator label */\n",
              "\n",
              "#sk-container-id-1 div.sk-label label {\n",
              "  font-family: monospace;\n",
              "  font-weight: bold;\n",
              "  display: inline-block;\n",
              "  line-height: 1.2em;\n",
              "}\n",
              "\n",
              "#sk-container-id-1 div.sk-label-container {\n",
              "  text-align: center;\n",
              "}\n",
              "\n",
              "/* Estimator-specific */\n",
              "#sk-container-id-1 div.sk-estimator {\n",
              "  font-family: monospace;\n",
              "  border: 1px dotted var(--sklearn-color-border-box);\n",
              "  border-radius: 0.25em;\n",
              "  box-sizing: border-box;\n",
              "  margin-bottom: 0.5em;\n",
              "  /* unfitted */\n",
              "  background-color: var(--sklearn-color-unfitted-level-0);\n",
              "}\n",
              "\n",
              "#sk-container-id-1 div.sk-estimator.fitted {\n",
              "  /* fitted */\n",
              "  background-color: var(--sklearn-color-fitted-level-0);\n",
              "}\n",
              "\n",
              "/* on hover */\n",
              "#sk-container-id-1 div.sk-estimator:hover {\n",
              "  /* unfitted */\n",
              "  background-color: var(--sklearn-color-unfitted-level-2);\n",
              "}\n",
              "\n",
              "#sk-container-id-1 div.sk-estimator.fitted:hover {\n",
              "  /* fitted */\n",
              "  background-color: var(--sklearn-color-fitted-level-2);\n",
              "}\n",
              "\n",
              "/* Specification for estimator info (e.g. \"i\" and \"?\") */\n",
              "\n",
              "/* Common style for \"i\" and \"?\" */\n",
              "\n",
              ".sk-estimator-doc-link,\n",
              "a:link.sk-estimator-doc-link,\n",
              "a:visited.sk-estimator-doc-link {\n",
              "  float: right;\n",
              "  font-size: smaller;\n",
              "  line-height: 1em;\n",
              "  font-family: monospace;\n",
              "  background-color: var(--sklearn-color-background);\n",
              "  border-radius: 1em;\n",
              "  height: 1em;\n",
              "  width: 1em;\n",
              "  text-decoration: none !important;\n",
              "  margin-left: 0.5em;\n",
              "  text-align: center;\n",
              "  /* unfitted */\n",
              "  border: var(--sklearn-color-unfitted-level-1) 1pt solid;\n",
              "  color: var(--sklearn-color-unfitted-level-1);\n",
              "}\n",
              "\n",
              ".sk-estimator-doc-link.fitted,\n",
              "a:link.sk-estimator-doc-link.fitted,\n",
              "a:visited.sk-estimator-doc-link.fitted {\n",
              "  /* fitted */\n",
              "  border: var(--sklearn-color-fitted-level-1) 1pt solid;\n",
              "  color: var(--sklearn-color-fitted-level-1);\n",
              "}\n",
              "\n",
              "/* On hover */\n",
              "div.sk-estimator:hover .sk-estimator-doc-link:hover,\n",
              ".sk-estimator-doc-link:hover,\n",
              "div.sk-label-container:hover .sk-estimator-doc-link:hover,\n",
              ".sk-estimator-doc-link:hover {\n",
              "  /* unfitted */\n",
              "  background-color: var(--sklearn-color-unfitted-level-3);\n",
              "  color: var(--sklearn-color-background);\n",
              "  text-decoration: none;\n",
              "}\n",
              "\n",
              "div.sk-estimator.fitted:hover .sk-estimator-doc-link.fitted:hover,\n",
              ".sk-estimator-doc-link.fitted:hover,\n",
              "div.sk-label-container:hover .sk-estimator-doc-link.fitted:hover,\n",
              ".sk-estimator-doc-link.fitted:hover {\n",
              "  /* fitted */\n",
              "  background-color: var(--sklearn-color-fitted-level-3);\n",
              "  color: var(--sklearn-color-background);\n",
              "  text-decoration: none;\n",
              "}\n",
              "\n",
              "/* Span, style for the box shown on hovering the info icon */\n",
              ".sk-estimator-doc-link span {\n",
              "  display: none;\n",
              "  z-index: 9999;\n",
              "  position: relative;\n",
              "  font-weight: normal;\n",
              "  right: .2ex;\n",
              "  padding: .5ex;\n",
              "  margin: .5ex;\n",
              "  width: min-content;\n",
              "  min-width: 20ex;\n",
              "  max-width: 50ex;\n",
              "  color: var(--sklearn-color-text);\n",
              "  box-shadow: 2pt 2pt 4pt #999;\n",
              "  /* unfitted */\n",
              "  background: var(--sklearn-color-unfitted-level-0);\n",
              "  border: .5pt solid var(--sklearn-color-unfitted-level-3);\n",
              "}\n",
              "\n",
              ".sk-estimator-doc-link.fitted span {\n",
              "  /* fitted */\n",
              "  background: var(--sklearn-color-fitted-level-0);\n",
              "  border: var(--sklearn-color-fitted-level-3);\n",
              "}\n",
              "\n",
              ".sk-estimator-doc-link:hover span {\n",
              "  display: block;\n",
              "}\n",
              "\n",
              "/* \"?\"-specific style due to the `<a>` HTML tag */\n",
              "\n",
              "#sk-container-id-1 a.estimator_doc_link {\n",
              "  float: right;\n",
              "  font-size: 1rem;\n",
              "  line-height: 1em;\n",
              "  font-family: monospace;\n",
              "  background-color: var(--sklearn-color-background);\n",
              "  border-radius: 1rem;\n",
              "  height: 1rem;\n",
              "  width: 1rem;\n",
              "  text-decoration: none;\n",
              "  /* unfitted */\n",
              "  color: var(--sklearn-color-unfitted-level-1);\n",
              "  border: var(--sklearn-color-unfitted-level-1) 1pt solid;\n",
              "}\n",
              "\n",
              "#sk-container-id-1 a.estimator_doc_link.fitted {\n",
              "  /* fitted */\n",
              "  border: var(--sklearn-color-fitted-level-1) 1pt solid;\n",
              "  color: var(--sklearn-color-fitted-level-1);\n",
              "}\n",
              "\n",
              "/* On hover */\n",
              "#sk-container-id-1 a.estimator_doc_link:hover {\n",
              "  /* unfitted */\n",
              "  background-color: var(--sklearn-color-unfitted-level-3);\n",
              "  color: var(--sklearn-color-background);\n",
              "  text-decoration: none;\n",
              "}\n",
              "\n",
              "#sk-container-id-1 a.estimator_doc_link.fitted:hover {\n",
              "  /* fitted */\n",
              "  background-color: var(--sklearn-color-fitted-level-3);\n",
              "}\n",
              "</style><div id=\"sk-container-id-1\" class=\"sk-top-container\"><div class=\"sk-text-repr-fallback\"><pre>LinearRegression()</pre><b>In a Jupyter environment, please rerun this cell to show the HTML representation or trust the notebook. <br />On GitHub, the HTML representation is unable to render, please try loading this page with nbviewer.org.</b></div><div class=\"sk-container\" hidden><div class=\"sk-item\"><div class=\"sk-estimator fitted sk-toggleable\"><input class=\"sk-toggleable__control sk-hidden--visually\" id=\"sk-estimator-id-1\" type=\"checkbox\" checked><label for=\"sk-estimator-id-1\" class=\"sk-toggleable__label fitted sk-toggleable__label-arrow\"><div><div>LinearRegression</div></div><div><a class=\"sk-estimator-doc-link fitted\" rel=\"noreferrer\" target=\"_blank\" href=\"https://scikit-learn.org/1.6/modules/generated/sklearn.linear_model.LinearRegression.html\">?<span>Documentation for LinearRegression</span></a><span class=\"sk-estimator-doc-link fitted\">i<span>Fitted</span></span></div></label><div class=\"sk-toggleable__content fitted\"><pre>LinearRegression()</pre></div> </div></div></div></div>"
            ]
          },
          "metadata": {},
          "execution_count": 33
        }
      ]
    },
    {
      "cell_type": "code",
      "source": [
        "# Вывод весов признаков и bias, полученных по результатам обучения\n",
        "print(\"Веса признаков \", model.coef_)\n",
        "print(\"Bias \", model.intercept_)"
      ],
      "metadata": {
        "colab": {
          "base_uri": "https://localhost:8080/"
        },
        "id": "ZFnDWArfV4aQ",
        "outputId": "881fdc1e-f2b1-4923-d26c-d16486001ce0"
      },
      "execution_count": 34,
      "outputs": [
        {
          "output_type": "stream",
          "name": "stdout",
          "text": [
            "Веса признаков  [89.17886345  0.60553327]\n",
            "Bias  1.329661855895682\n"
          ]
        }
      ]
    },
    {
      "cell_type": "markdown",
      "source": [
        "Таким образом, уравнение регрессии, полученное по результатам обучения, имеет вид $\\quad a(x) = 1.330 + 89.179 \\cdot x^1 + 0.606 \\cdot x^2 \\;.$\n",
        "\n",
        "В процессе обучения модели участвовали оба признака: и информативный, и \"шумовой\" (оба были переданы методу fit() ). Как и следовало ожидать, неинформативный признак в результате обучения получил очень небольшой вес."
      ],
      "metadata": {
        "id": "tBM-5GivYnyV"
      }
    },
    {
      "cell_type": "markdown",
      "source": [
        "Визуализируем выборку вместе с линиями регрессии: сгенерированной изначально, и полученной по итогу обучения модели.\n",
        "\n",
        "Для визуализации будем использовать только информативный признак."
      ],
      "metadata": {
        "id": "JlrB_MW9aN5u"
      }
    },
    {
      "cell_type": "code",
      "source": [
        "# Создание диапазонов значений для каждого из признаков\n",
        "x_1 = np.linspace(floor(np.min(X[:, 0])), ceil(np.max(X[:, 0])), 2).reshape(-1, 1)\n",
        "x_2 = np.linspace(floor(np.min(X[:, 1])), ceil(np.max(X[:, 1])), 2).reshape(-1, 1)\n",
        "\n",
        "# Получение границ области построения по двум признакам\n",
        "x_lin = np.hstack((x_1, x_2))\n",
        "x_lin"
      ],
      "metadata": {
        "colab": {
          "base_uri": "https://localhost:8080/"
        },
        "id": "HixUtux6ivMc",
        "outputId": "0d72fda0-dc2e-427a-fd5c-7a4b6f270e97"
      },
      "execution_count": 35,
      "outputs": [
        {
          "output_type": "execute_result",
          "data": {
            "text/plain": [
              "array([[-3., -2.],\n",
              "       [ 2.,  3.]])"
            ]
          },
          "metadata": {},
          "execution_count": 35
        }
      ]
    },
    {
      "cell_type": "code",
      "source": [
        "# Значения целевого признака в соответствии со сгенерированным уравнением\n",
        "y_gen = np.dot(x_lin, coef)\n",
        "\n",
        "# Получение прогнозов в области построения (достаточно только граничных точек, т. к. модель линейная)\n",
        "y_mod = np.dot(x_lin, model.coef_) + model.intercept_"
      ],
      "metadata": {
        "id": "ATdJuCJEcg0R"
      },
      "execution_count": 36,
      "outputs": []
    },
    {
      "cell_type": "code",
      "source": [
        "fig, axes = plt.subplots(nrows = 1, ncols = 2, figsize = (10, 4))\n",
        "\n",
        "# Вывод обучающих данных (используется только информативный признак)\n",
        "axes[0].scatter(X_train[:, 0], y_train, label='Выборка')\n",
        "axes[0].set_title('Обучающая выборка')\n",
        "\n",
        "# Вывод тестовых данных (используется только информативный признак)\n",
        "axes[1].scatter(X_test[:, 0], y_test, label='Выборка')\n",
        "axes[1].set_title('Тестовая выборка')\n",
        "\n",
        "# Вывод линий регрессии (сгенерированной и полученной при обучении модели) на обоих графиках\n",
        "for ax in axes:\n",
        "  ax.plot(x_lin[:, 0], y_gen, 'r', label='Генерация')\n",
        "  ax.plot(x_lin[:, 0], y_mod, 'g', label='Модель')\n",
        "  ax.set_xlabel('$x^1$')\n",
        "  ax.set_ylabel('$y$')\n",
        "  ax.legend(loc=2)\n",
        "\n",
        "fig.tight_layout()"
      ],
      "metadata": {
        "colab": {
          "base_uri": "https://localhost:8080/",
          "height": 407
        },
        "outputId": "bf9823a7-e514-4fb6-9fec-7b48a67dba2d",
        "id": "709xy9Lkar6M"
      },
      "execution_count": 37,
      "outputs": [
        {
          "output_type": "display_data",
          "data": {
            "text/plain": [
              "<Figure size 1000x400 with 2 Axes>"
            ],
            "image/png": "[encoded data removed]"
          },
          "metadata": {}
        }
      ]
    },
    {
      "cell_type": "markdown",
      "source": [
        "По визуальной оценке, модель неплохо описывает тенденцию как на обучающей, так и на тестовой выборке.\n",
        "\n",
        "Но для точной оценки качества прогноза нужно иметь количественные значения."
      ],
      "metadata": {
        "id": "Jofx8fW7sCxv"
      }
    },
    {
      "cell_type": "markdown",
      "source": [
        "### Оценка качества моделей\n",
        "На данном этапе мы рассмотрели только одну метрику качества модели регрессии - среднеквадратичную ошибку (MSE).\n",
        "\n",
        "Существуют и другие метрики, которые будут рассмотрены на следующих занятиях.\n",
        "\n",
        "Чтобы не писать код для вычисления функционалов ошибки, в модуле **metrics** библиотеки Scikit-learn уже реализованы встроенные функции для получения различных метрик качества моделей.\n",
        "\n",
        "[Документация модуля](https://scikit-learn.org/stable/api/sklearn.metrics.html)\n",
        "\n",
        "Вычисление среднеквадратичной ошибки (MSE) реализовано в функции **mean_squared_error()** модуля **metrics**.\n",
        "\n",
        "На вход функции нужно подать массив правильных ответов и массив предсказаний модели.\n",
        "\n",
        "[Документация функции](https://scikit-learn.org/stable/modules/generated/sklearn.metrics.mean_squared_error.html#sklearn.metrics.mean_squared_error)"
      ],
      "metadata": {
        "id": "1I9w9Mw9t4_D"
      }
    },
    {
      "cell_type": "markdown",
      "source": [
        "Рассчитаем значения MSE обученной нами модели отдельно на обучающих и тестовых данных."
      ],
      "metadata": {
        "id": "ngIF2km9wkPB"
      }
    },
    {
      "cell_type": "code",
      "source": [
        "from sklearn.metrics import mean_squared_error as mse"
      ],
      "metadata": {
        "id": "2o04M0eoxjLn"
      },
      "execution_count": 38,
      "outputs": []
    },
    {
      "cell_type": "code",
      "source": [
        "# Получение предсказаний модели на обучающих данных\n",
        "y_pred_train = model.predict(X_train)\n",
        "y_pred_train[:10]"
      ],
      "metadata": {
        "colab": {
          "base_uri": "https://localhost:8080/"
        },
        "id": "09iKOvSbnafU",
        "outputId": "157754d1-2a17-4d2d-d023-ed58677e21e3"
      },
      "execution_count": 39,
      "outputs": [
        {
          "output_type": "execute_result",
          "data": {
            "text/plain": [
              "array([ -40.20899214,   31.46208321,   54.99130425, -231.79853975,\n",
              "         30.90557091, -141.91206408,  -21.01018376,  125.5803967 ,\n",
              "        -18.16614431,  -51.20823389])"
            ]
          },
          "metadata": {},
          "execution_count": 39
        }
      ]
    },
    {
      "cell_type": "code",
      "source": [
        "# Вычисление MSE на обучающей выборке\n",
        "mse_train = mse(y_train, y_pred_train)\n",
        "mse_train"
      ],
      "metadata": {
        "colab": {
          "base_uri": "https://localhost:8080/"
        },
        "id": "KHalEVBFxwuF",
        "outputId": "c6ed6112-150c-4472-9c49-a2851d335042"
      },
      "execution_count": 40,
      "outputs": [
        {
          "output_type": "execute_result",
          "data": {
            "text/plain": [
              "108.71196229422758"
            ]
          },
          "metadata": {},
          "execution_count": 40
        }
      ]
    },
    {
      "cell_type": "code",
      "source": [
        "# Получение предсказаний модели на тестовых данных\n",
        "y_pred_test = model.predict(X_test)\n",
        "y_pred_test[:10]"
      ],
      "metadata": {
        "colab": {
          "base_uri": "https://localhost:8080/"
        },
        "outputId": "9184bed9-a678-4af5-85b7-3e8f03686981",
        "id": "m0-dbSOSyPoP"
      },
      "execution_count": 41,
      "outputs": [
        {
          "output_type": "execute_result",
          "data": {
            "text/plain": [
              "array([  -2.47356775,  -93.1186    ,  -85.11473581,  -80.50209007,\n",
              "         83.16325205,    8.30924451,  142.62677316,   43.48835503,\n",
              "        -98.05637664, -125.14620703])"
            ]
          },
          "metadata": {},
          "execution_count": 41
        }
      ]
    },
    {
      "cell_type": "code",
      "source": [
        "# Вычисление MSE на тестовой выборке\n",
        "mse_test = mse(y_test, y_pred_test)\n",
        "mse_test"
      ],
      "metadata": {
        "colab": {
          "base_uri": "https://localhost:8080/"
        },
        "outputId": "45668b34-b76a-4da3-df3b-0c41acdd66ba",
        "id": "x5yzA-01yPoZ"
      },
      "execution_count": 42,
      "outputs": [
        {
          "output_type": "execute_result",
          "data": {
            "text/plain": [
              "79.37272724899346"
            ]
          },
          "metadata": {},
          "execution_count": 42
        }
      ]
    },
    {
      "cell_type": "markdown",
      "source": [
        "Качество предсказаний на тестовой выборке не ухудшилось (по сравнению с обучающей), что свидетельствует о хорошей обощающей способности полученной модели.\n",
        "\n",
        "*Замечание*. Тот факт, что значение MSE на тестовой выборке в данном примере заметно меньше, чем на обучающей, можно объяснить небольшим разбросом значений тестовой выборки (очень маленькой в этом учебном примере). В реальных задачах при хорошем качестве модели ошибка на тестовой выборке обычно сопоставима или немного превосходит ошибку на обучающих данных."
      ],
      "metadata": {
        "id": "WH0hI_dJzLd2"
      }
    }
  ]
}