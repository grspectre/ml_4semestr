{
 "cells": [
  {
   "cell_type": "markdown",
   "metadata": {
    "id": "54GZEuhTv-ye"
   },
   "source": [
    "## Подключение модулей и библиотек\n",
    "Для получения дополнительного инструментария (не содержащегося в стандартном Python) можно подключать дополнительные модули Python и разные библиотеки."
   ]
  },
  {
   "cell_type": "markdown",
   "metadata": {
    "id": "Uv2dY0dkuTed"
   },
   "source": [
    "## Модули\n",
    "Модуль содержит некоторые функции и данные в отдельном файле.   \n",
    "   \n",
    ">  **<имя файла>  =  <имя модуля>.py**"
   ]
  },
  {
   "cell_type": "markdown",
   "metadata": {
    "id": "tj7lVQD0w-DS"
   },
   "source": [
    "### Импорт модуля:\n",
    "\n",
    "\n",
    "> **import <имя модуля>**"
   ]
  },
  {
   "cell_type": "markdown",
   "metadata": {
    "id": "Ez_TQO9q0doQ"
   },
   "source": [
    "Например:"
   ]
  },
  {
   "cell_type": "code",
   "execution_count": 1,
   "metadata": {
    "id": "QoE20LoW001f"
   },
   "outputs": [],
   "source": [
    "import math"
   ]
  },
  {
   "cell_type": "markdown",
   "metadata": {
    "id": "skT-uzKzy9Yf"
   },
   "source": [
    "### Обращение к функции, описанной в модуле:\n",
    "\n",
    "\n",
    "> **<имя модуля>.<имя функции>(<параметры>)**"
   ]
  },
  {
   "cell_type": "markdown",
   "metadata": {
    "id": "Yg4SeTMs1Xt0"
   },
   "source": [
    "Например:"
   ]
  },
  {
   "cell_type": "code",
   "execution_count": 2,
   "metadata": {
    "colab": {
     "base_uri": "https://localhost:8080/"
    },
    "id": "w8b_B6Ti1Xt9",
    "outputId": "fa620b67-895e-4a0b-9df6-1167cc24bbd1"
   },
   "outputs": [
    {
     "name": "stdout",
     "output_type": "stream",
     "text": [
      "120\n"
     ]
    }
   ],
   "source": [
    "i = 5\n",
    "print(math.factorial(i))"
   ]
  },
  {
   "cell_type": "markdown",
   "metadata": {
    "id": "P-Ml2MveyeNi"
   },
   "source": [
    "### Импорт отдельных функций из модуля:\n",
    "\n",
    "\n",
    "> **from <имя модуля> import <имя функции>**\n",
    "\n",
    "В таком случае при последующем обращении к данной функции имя модуля не указывается."
   ]
  },
  {
   "cell_type": "markdown",
   "metadata": {
    "id": "aS2IaF7H2iwY"
   },
   "source": [
    "Например:"
   ]
  },
  {
   "cell_type": "code",
   "execution_count": 3,
   "metadata": {
    "colab": {
     "base_uri": "https://localhost:8080/"
    },
    "id": "66XpiH032iwk",
    "outputId": "4ffaa5d2-f24a-43ca-cce8-85ce8fa81a6b"
   },
   "outputs": [
    {
     "name": "stdout",
     "output_type": "stream",
     "text": [
      "Округление до ближайшего бОльшего целого: 2\n",
      "Округление до ближайшего меньшего целого: 1\n"
     ]
    }
   ],
   "source": [
    "from math import floor, ceil\n",
    "t = 1.768\n",
    "print(\"Округление до ближайшего бОльшего целого:\", ceil(t))\n",
    "print(\"Округление до ближайшего меньшего целого:\", floor(t))"
   ]
  },
  {
   "cell_type": "markdown",
   "metadata": {
    "id": "sy1JQvlI2XmW"
   },
   "source": [
    "### Импорт всех функций и данных из модуля:\n",
    "\n",
    "\n",
    ">  from <имя модуля> import *  \n",
    "\n",
    "\n",
    "При последующих обращениях к функциям имя модуля не указывается."
   ]
  },
  {
   "cell_type": "markdown",
   "metadata": {
    "id": "vZk2qVPs4oXy"
   },
   "source": [
    "### Импорт функции из модуля с заменой названия функции в вызывающей программе:\n",
    "\n",
    "\n",
    "> **from <имя модуля> import <имя функции в модуле> as <псевдоним>**"
   ]
  },
  {
   "cell_type": "markdown",
   "metadata": {
    "id": "AZFeBWOD59m6"
   },
   "source": [
    "Например:"
   ]
  },
  {
   "cell_type": "code",
   "execution_count": 4,
   "metadata": {
    "colab": {
     "base_uri": "https://localhost:8080/"
    },
    "id": "y6-vJsQK59nD",
    "outputId": "b164a34d-fc30-4d01-b194-c6a20c076fe5"
   },
   "outputs": [
    {
     "name": "stdout",
     "output_type": "stream",
     "text": [
      "120\n"
     ]
    }
   ],
   "source": [
    "from math import factorial as fact\n",
    "n = 5\n",
    "print(fact(n))"
   ]
  },
  {
   "cell_type": "markdown",
   "metadata": {
    "id": "8GDYIyFZ5Ew8"
   },
   "source": [
    "[Описание библиотеки стандартных модулей Python 3](https://docs.python.org/3/library).\n",
    "\n",
    "### Примеры стандартных модулей Python:\n",
    "#### **модуль math**\n",
    "   Содержит основные математические функции (экспонента, логарифмы, тригонометрия и т. д.).  \n",
    "#### **модуль sys**\n",
    "  Содержит системные функции.    \n",
    "  Например: sys.argv - список (объект list) аргументов командной строки.\n",
    "  \n",
    "  Вывод списка параметров, с которыми запущена программа:"
   ]
  },
  {
   "cell_type": "code",
   "execution_count": 5,
   "metadata": {
    "colab": {
     "base_uri": "https://localhost:8080/"
    },
    "id": "t20k4SV98CHC",
    "outputId": "28cec906-fab1-469b-bdbf-2a557b216cd7"
   },
   "outputs": [
    {
     "name": "stdout",
     "output_type": "stream",
     "text": [
      "['/usr/local/lib/python3.11/dist-packages/colab_kernel_launcher.py', '-f', '/root/.local/share/jupyter/runtime/kernel-bccbe791-caad-467b-b834-55bc3f2fda7b.json']\n"
     ]
    }
   ],
   "source": [
    "import sys\n",
    "print(sys.argv)"
   ]
  },
  {
   "cell_type": "markdown",
   "metadata": {
    "id": "z9YQZ_t38MEP"
   },
   "source": [
    "#### **модуль subprocess**\n",
    "  Содержит инструменты запуска внешних процессов."
   ]
  },
  {
   "cell_type": "markdown",
   "metadata": {
    "id": "AGu43QysuTeg"
   },
   "source": [
    "# Библиотеки\n",
    "### Подключение библиотеки:\n",
    "\n",
    "> **import <имя библиотеки> as <псевдоним>**"
   ]
  },
  {
   "cell_type": "markdown",
   "metadata": {
    "id": "ro5seNcZ9JAL"
   },
   "source": [
    "После этого доступны функции и методы, реализованные в библиотеке.   \n",
    "### Обращение к функции:   \n",
    "\n",
    "\n",
    "> **<имя библиотеки>.<имя функции>(<параметры>)**\n"
   ]
  },
  {
   "cell_type": "markdown",
   "metadata": {
    "id": "HlQfuUX5RNKw"
   },
   "source": [
    "Некоторые функции и данные в библиотеке могут быть сгруппированы в модули (в составе этой библиотеки).   \n",
    "### Обращение к функции из модуля библиотеки:   \n",
    "\n",
    "\n",
    "> **<имя библиотеки>.<имя модуля>.<имя функции>(<параметры>)**\n"
   ]
  },
  {
   "cell_type": "markdown",
   "metadata": {
    "id": "Tk3Ink4HuTeh"
   },
   "source": [
    "## Библиотека NumPy\n",
    "[Официальный сайт библиотеки](https://numpy.org/)\n",
    "\n",
    "[Руководство пользователя](https://numpy.org/doc/stable/user/index.html#user)"
   ]
  },
  {
   "cell_type": "markdown",
   "metadata": {
    "id": "9irBzSRUQ6d8"
   },
   "source": [
    "Основной тип данных - массивы (ndarray).\n",
    "\n",
    "Их отличие от списков: массивы могут содержать данные только **одного типа**."
   ]
  },
  {
   "cell_type": "markdown",
   "metadata": {
    "id": "5hY8yoJ49qYT"
   },
   "source": [
    "### Создание массива (из списка элементов):\n",
    "\n",
    "\n",
    "> import numpy as np\n",
    "\n",
    "> <имя массива> = np.array([элемент 1, элемент 2, ... ])\n",
    "\n",
    "Элементами массива могут быть другие массивы. Так формируются многомерные массивы."
   ]
  },
  {
   "cell_type": "markdown",
   "metadata": {
    "id": "ThTzowPC-KDw"
   },
   "source": [
    "### Преобразование существующего списка в массив NumPy:\n",
    "\n",
    "> <имя массива> = np.array(<имя списка>)\n",
    "\n",
    "### Преобразование массива в список:\n",
    "\n",
    "> <имя списка> = list(<имя объекта>)"
   ]
  },
  {
   "cell_type": "code",
   "execution_count": 6,
   "metadata": {
    "colab": {
     "base_uri": "https://localhost:8080/"
    },
    "id": "6B3unBxMuTeh",
    "outputId": "682412a5-b23e-4dad-ce6a-b7f1a06f0dc7"
   },
   "outputs": [
    {
     "data": {
      "text/plain": [
       "array([2, 3, 4])"
      ]
     },
     "execution_count": 6,
     "metadata": {},
     "output_type": "execute_result"
    }
   ],
   "source": [
    "import numpy as np\n",
    "a = np.array([2, 3, 4])\n",
    "a"
   ]
  },
  {
   "cell_type": "code",
   "execution_count": 7,
   "metadata": {
    "colab": {
     "base_uri": "https://localhost:8080/"
    },
    "id": "JSNZopSYuTej",
    "outputId": "e480ff26-65c5-4c6d-9510-534a7c43b4f7"
   },
   "outputs": [
    {
     "name": "stdout",
     "output_type": "stream",
     "text": [
      "[2 3 4]\n"
     ]
    }
   ],
   "source": [
    "print(a)"
   ]
  },
  {
   "cell_type": "code",
   "execution_count": 8,
   "metadata": {
    "colab": {
     "base_uri": "https://localhost:8080/"
    },
    "id": "ugzmxwE9uTej",
    "outputId": "6776bebc-4102-4ae5-e988-639fd66cdfe1"
   },
   "outputs": [
    {
     "name": "stdout",
     "output_type": "stream",
     "text": [
      "Тип первоначально созданного объекта:\n",
      "<class 'list'> [1, 3, 5, 7]\n",
      "Типы преобразованных объектов:\n",
      "y  <class 'numpy.ndarray'> [1 3 5 7]\n",
      "z  <class 'list'> [1, 3, 5, 7]\n"
     ]
    }
   ],
   "source": [
    "x = [1, 3, 5, 7]  # список\n",
    "print('Тип первоначально созданного объекта:')\n",
    "print(type(x), x)\n",
    "y = np.array(x)   # преобразование списка в массив numpy\n",
    "z = list(y)  # преобразование массива numpy в список\n",
    "print('Типы преобразованных объектов:')\n",
    "print('y ', type(y), y)\n",
    "print('z ', type(z), z)"
   ]
  },
  {
   "cell_type": "markdown",
   "metadata": {
    "id": "WoysgT_DuTej"
   },
   "source": [
    "## Работа с массивами\n",
    "### Определение числа измерений массива:\n",
    "\n",
    "> <имя массива>.ndim\n",
    "\n",
    "### Определение размерности массива (число элементов по каждому измерению):\n",
    "\n",
    "> <имя массива>.shape\n",
    "\n",
    "### Определение общего количества элементов массива:\n",
    "\n",
    "> <имя массива>.size"
   ]
  },
  {
   "cell_type": "markdown",
   "metadata": {
    "id": "Lp_YjKDoDfsy"
   },
   "source": [
    "**!!!** При разном количестве элементов вложенных массивов данный массив будет рассматриваться как одномерный (его элементы - массивы 2-го уровня, преобразованные в списки). В версиях библиотеки, более поздних, чем 1.21, в таких случаях требуется дополнительно определять параметр dtype = object, чтобы не возникала ошибка."
   ]
  },
  {
   "cell_type": "code",
   "execution_count": 9,
   "metadata": {
    "colab": {
     "base_uri": "https://localhost:8080/"
    },
    "id": "LIA_yzz7uTej",
    "outputId": "fcaf4880-988a-46d0-8278-eed4e2c6920c"
   },
   "outputs": [
    {
     "name": "stdout",
     "output_type": "stream",
     "text": [
      "[2 3 4]\n",
      "Количество измерений массива 1\n",
      "Размерность массива (3,)\n",
      "Количество элементов массива 3\n"
     ]
    }
   ],
   "source": [
    "print(a) # для напоминания (масссив a был определен выше)\n",
    "print('Количество измерений массива', a.ndim)\n",
    "print('Размерность массива', a.shape)\n",
    "print('Количество элементов массива', a.size)"
   ]
  },
  {
   "cell_type": "code",
   "execution_count": 10,
   "metadata": {
    "colab": {
     "base_uri": "https://localhost:8080/"
    },
    "id": "T7O5A_HIuTek",
    "outputId": "7c0b3146-e604-43eb-b432-6164a2754e5c"
   },
   "outputs": [
    {
     "name": "stdout",
     "output_type": "stream",
     "text": [
      "[[ 1.2  2.   5.  -1. ]\n",
      " [ 3.   4.1 -2.   7. ]]\n",
      "Количество измерений массива 2\n",
      "Размерность массива (2, 4)\n",
      "Количество элементов массива 8\n"
     ]
    }
   ],
   "source": [
    "b = np.array([[1.2, 2, 5, -1], [3, 4.1, -2, 7]])\n",
    "print(b)\n",
    "print('Количество измерений массива', b.ndim)\n",
    "print('Размерность массива', b.shape)\n",
    "print('Количество элементов массива', b.size)"
   ]
  },
  {
   "cell_type": "code",
   "execution_count": 11,
   "metadata": {
    "colab": {
     "base_uri": "https://localhost:8080/"
    },
    "id": "D5HCQloZuTek",
    "outputId": "ea775e05-cfaa-40d2-b279-0acbf1ceedc1"
   },
   "outputs": [
    {
     "name": "stdout",
     "output_type": "stream",
     "text": [
      "[list([1.2, 2, 5]) list([3, 4.1])]\n",
      "Количество измерений массива 1\n",
      "Размерность массива (2,)\n",
      "Количество элементов массива 2\n"
     ]
    }
   ],
   "source": [
    "#  Определение массива с разным числом элементов во вложенных массивах (массивах 2-го уровня)\n",
    "c = np.array([[1.2, 2, 5], [3, 4.1]], dtype = object)\n",
    "print(c)\n",
    "print('Количество измерений массива', c.ndim)\n",
    "print('Размерность массива', c.shape)\n",
    "print('Количество элементов массива', c.size)"
   ]
  },
  {
   "cell_type": "markdown",
   "metadata": {
    "id": "GaTa9jqQuTek"
   },
   "source": [
    "Обращение к элементам массива - по индексам.\n",
    "\n",
    "С индексами возможны все манипуляции, которые доступны для списков.  \n",
    "   \n",
    "Дополнительно:\n",
    "- в многомерном массиве можно указывать индексы перечислением в одних квадратных скобках (в списках так нельзя):   \n",
    "    <имя массива>[<индекс 1>, <индекс 2>]\n",
    "- допускается логическая индексация (индексом является логическое выражение)."
   ]
  },
  {
   "cell_type": "code",
   "execution_count": 12,
   "metadata": {
    "colab": {
     "base_uri": "https://localhost:8080/"
    },
    "id": "l8EJItOHuTek",
    "outputId": "75b8bee9-e3f3-4f35-cbe4-b5d92adb7314"
   },
   "outputs": [
    {
     "name": "stdout",
     "output_type": "stream",
     "text": [
      "[1 3 5 7]\n",
      "[1 5]\n",
      "1 7\n",
      "[1 5 7]\n",
      "[5 7]\n"
     ]
    }
   ],
   "source": [
    "print(y)\n",
    "print(y[::2]) # вывод всех элементов массива через 1\n",
    "print(y[0], y[-1]) # вывод первого и последнего элементов массива\n",
    "print(y[[0, 2, -1]]) # вывод элементов массива по списку их индексов\n",
    "print(y[y>3]) # вывод всех элементов массива, больших 3"
   ]
  },
  {
   "cell_type": "code",
   "execution_count": 13,
   "metadata": {
    "colab": {
     "base_uri": "https://localhost:8080/"
    },
    "id": "Dki1XaomuTek",
    "outputId": "1fa89732-7cc9-4cf0-b84c-f4d2655de63d"
   },
   "outputs": [
    {
     "name": "stdout",
     "output_type": "stream",
     "text": [
      "[[ 1.2  2.   5.  -1. ]\n",
      " [ 3.   4.1 -2.   7. ]]\n",
      "b[1, 2] =  -2.0\n"
     ]
    }
   ],
   "source": [
    "# b - массив\n",
    "print(b)\n",
    "print('b[1, 2] = ', b[1, 2])\n",
    "B = [[1, 2, 3], [2, -3, 4]]  # список, а не массив\n",
    "# Для списка так не работает (будет ошибка)\n",
    "# print(B[1, 2])"
   ]
  },
  {
   "cell_type": "markdown",
   "metadata": {
    "id": "z1-YBquuuTel"
   },
   "source": [
    "### Другие отличия от списков\n",
    "#### Операция умножение на число (\"*\")\n",
    "- в списках - дублирование списка\n",
    "- в массивах - умножение на это число каждого элемента массива (количество элементов массива не изменяется)\n",
    "\n",
    "#### Применение других арифметических операций и математических функций  \n",
    "- к спискам - не работает (можно применять только к отдельным элементам списков)\n",
    "- к массиву - описание ниже.   "
   ]
  },
  {
   "cell_type": "markdown",
   "metadata": {
    "id": "b7o9N1M_FrRq"
   },
   "source": [
    "#### Операции \" + \" и \" - \"\n",
    "> к массивам применяются поэлементно.\n",
    "\n",
    "#### Операция \" ** \" (возведение массива в степень)\n",
    "> применяется поэлементно - все элементы массива возводятся в данную степень.\n",
    "\n",
    "#### Применение математических функций:\n",
    "> массив можно указывать в качестве аргумента функции (exp(), sin(), cos() и т. п.). Функция будет применена к каждому элементу массива отдельно.\n",
    "\n",
    "#### Применение к массиву операций сравнения:\n",
    "> результат - массив булевских значений (результат поэлементного применения операции сравнения)."
   ]
  },
  {
   "cell_type": "code",
   "execution_count": 14,
   "metadata": {
    "colab": {
     "base_uri": "https://localhost:8080/"
    },
    "id": "zJKhghJ_uTel",
    "outputId": "6edcda0b-5f9a-43ad-ea34-1dfdc41636e9"
   },
   "outputs": [
    {
     "name": "stdout",
     "output_type": "stream",
     "text": [
      "x = [1, 3, 5, 7]\n",
      "y1 = [1 3 5 7]\n",
      "y2 = [2 4 6 8]\n",
      "Умножение списка на число: x*3 =  [1, 3, 5, 7, 1, 3, 5, 7, 1, 3, 5, 7]\n",
      "Умножение массива на число: y1*3 =  [ 3  9 15 21]\n",
      "Сложение массивов: y1+y2 =  [ 3  7 11 15]\n",
      "Вычитание массивов: y1-y2 =  [-1 -1 -1 -1]\n",
      "Возведение массива в степень: y1**2 =  [ 1  9 25 49]\n",
      "Применение к массиву y1 функции sin():  [ 0.84147098  0.14112001 -0.95892427  0.6569866 ]\n",
      "Проверка условия 'элемент массива y1 больше 3':  [False False  True  True]\n"
     ]
    }
   ],
   "source": [
    "x = [1, 3, 5, 7]  # список\n",
    "y1 = np.array(x)   # преобразование в массив numpy\n",
    "y2 = np.array([2, 4, 6, 8])\n",
    "print('x =', x)\n",
    "print('y1 =', y1)\n",
    "print('y2 =', y2)\n",
    "print(\"Умножение списка на число: x*3 = \", x*3)\n",
    "print(\"Умножение массива на число: y1*3 = \", y1*3)\n",
    "print(\"Сложение массивов: y1+y2 = \", y1+y2)\n",
    "print(\"Вычитание массивов: y1-y2 = \", y1-y2)\n",
    "print(\"Возведение массива в степень: y1**2 = \", y1**2)\n",
    "print(\"Применение к массиву y1 функции sin(): \", np.sin(y1))\n",
    "print(\"Проверка условия 'элемент массива y1 больше 3': \", y1>3)\n",
    "# аналогичные операции для списков не работают (будет ошибка)\n",
    "# print(x**2)\n",
    "# print(x>3)"
   ]
  },
  {
   "cell_type": "markdown",
   "metadata": {
    "id": "YiOR8yltuTel"
   },
   "source": [
    "### Генерация массивов\n",
    "#### Создание массива из нулей:\n",
    "\n",
    "> **<имя массива> = np.zeros(перечисление - количество элементов в измерениях)**\n",
    "\n",
    "#### Создание массива из единиц:\n",
    "\n",
    "> **<имя массива> = np.ones(перечисление - количество элементов в измерениях)**\n"
   ]
  },
  {
   "cell_type": "code",
   "execution_count": 15,
   "metadata": {
    "colab": {
     "base_uri": "https://localhost:8080/"
    },
    "id": "8BFi_b55Ma9e",
    "outputId": "74c6a4aa-851e-43e9-ed50-27cbd8fe8618"
   },
   "outputs": [
    {
     "name": "stdout",
     "output_type": "stream",
     "text": [
      "[0. 0. 0. 0. 0.]\n",
      "[[1. 1.]\n",
      " [1. 1.]\n",
      " [1. 1.]]\n"
     ]
    }
   ],
   "source": [
    "zers = np.zeros(5)\n",
    "ons = np.ones((3, 2))\n",
    "print(zers)\n",
    "print(ons)"
   ]
  },
  {
   "cell_type": "markdown",
   "metadata": {
    "id": "F5EQljioFTwq"
   },
   "source": [
    "#### Создание единичной матрицы:\n",
    "\n",
    "> **<имя массива> = np.eye(порядок матрицы)**"
   ]
  },
  {
   "cell_type": "code",
   "execution_count": 16,
   "metadata": {
    "colab": {
     "base_uri": "https://localhost:8080/"
    },
    "id": "f_VhUKmPGDks",
    "outputId": "bf8ce54e-6fb2-45bc-ed98-552bbf67c401"
   },
   "outputs": [
    {
     "name": "stdout",
     "output_type": "stream",
     "text": [
      "[[1. 0. 0. 0. 0.]\n",
      " [0. 1. 0. 0. 0.]\n",
      " [0. 0. 1. 0. 0.]\n",
      " [0. 0. 0. 1. 0.]\n",
      " [0. 0. 0. 0. 1.]]\n"
     ]
    }
   ],
   "source": [
    "I = np.eye(5)\n",
    "print(I)"
   ]
  },
  {
   "cell_type": "markdown",
   "metadata": {
    "id": "CabiJVGrMTuH"
   },
   "source": [
    "#### Генерация с помощью функции **arange()**:\n",
    "\n",
    "> **<имя массива> = np.arange(<начальное значение>, <конечное значение>, <шаг>)**\n",
    "\n",
    "   Аргументы функции определяются так же, как у range().\n",
    "\n",
    "#### Генерация с помощью функции **linspace()**:\n",
    "\n",
    ">**<имя массива> = np.linspace(<левый конец интервала>, <правый конец интервала>, <количество генерируемых точек>)**\n",
    "\n",
    "Эта функция удобна для генерации массивов нецелых значений (например, при построении графиков).   \n",
    "  \n",
    "**!!!** Отличие linspace() от range() и arange(): правый конец интервала включается."
   ]
  },
  {
   "cell_type": "code",
   "execution_count": 17,
   "metadata": {
    "colab": {
     "base_uri": "https://localhost:8080/"
    },
    "id": "xaMpz5lqJy4B",
    "outputId": "89c50cb0-d534-4085-8cf4-1efd703d173f"
   },
   "outputs": [
    {
     "name": "stdout",
     "output_type": "stream",
     "text": [
      "[0 1 2 3 4 5 6 7 8 9]\n",
      "[0 2 4 6 8]\n",
      "[ 0.  1.  2.  3.  4.  5.  6.  7.  8.  9. 10.]\n",
      "[-1.  -0.5  0.   0.5  1.   1.5  2.   2.5  3.   3.5  4.   4.5  5. ]\n"
     ]
    }
   ],
   "source": [
    "x1 = np.arange(10)\n",
    "print(x1)\n",
    "x2 = np.arange(0, 10, 2)\n",
    "print(x2)\n",
    "x3 = np.linspace(0, 10, 11)\n",
    "print(x3)\n",
    "x4 = np.linspace(-1, 5, 13)\n",
    "print(x4)"
   ]
  },
  {
   "cell_type": "markdown",
   "metadata": {
    "id": "FtpuOdGSSgbQ"
   },
   "source": [
    "#### Генерация массивов с элементами - псевдослучайными числами.\n",
    "\n",
    "С помощью функции **rand()** из модуля **random** (в составе NumPy):\n",
    "\n",
    "> **<имя массива> = np.random.rand(количество элементов в каждом измерении)**\n",
    "\n",
    "[Документация функции](https://numpy.org/doc/stable/reference/random/generated/numpy.random.rand.html)\n",
    "\n",
    "Если требуется при нескольких запусках получать одну и ту же псевдослучайную последовательность (например, в процессе отладки), то следует зафиксировать экземпляр генератора:\n",
    "\n",
    "\n",
    "> **np.random.seed(номер генератора)**\n",
    "\n",
    "\n"
   ]
  },
  {
   "cell_type": "code",
   "execution_count": 18,
   "metadata": {
    "colab": {
     "base_uri": "https://localhost:8080/"
    },
    "id": "7LP5GZoDX8U9",
    "outputId": "3b53efe8-a3ba-449a-f474-12d26bd02463"
   },
   "outputs": [
    {
     "name": "stdout",
     "output_type": "stream",
     "text": [
      "[[0.14639257 0.41029489 0.92913181 0.11549984]\n",
      " [0.50378911 0.5422946  0.96988342 0.43562603]\n",
      " [0.86373937 0.8225294  0.51244045 0.8391681 ]]\n"
     ]
    }
   ],
   "source": [
    "# Запустите ячейку несколько раз, чтобы убедиться, что при каждом запуске формируется новая матрица\n",
    "rand_matrix = np.random.rand(3, 4)\n",
    "print(rand_matrix)"
   ]
  },
  {
   "cell_type": "code",
   "execution_count": 19,
   "metadata": {
    "colab": {
     "base_uri": "https://localhost:8080/"
    },
    "id": "LBnS7cV6YY7D",
    "outputId": "b1a0b36e-2568-4c4f-fa5c-a6f865851866"
   },
   "outputs": [
    {
     "name": "stdout",
     "output_type": "stream",
     "text": [
      "[[0.22199317 0.87073231 0.20671916 0.91861091]\n",
      " [0.48841119 0.61174386 0.76590786 0.51841799]\n",
      " [0.2968005  0.18772123 0.08074127 0.7384403 ]]\n"
     ]
    }
   ],
   "source": [
    "# Запустите ячейку несколько раз, чтобы убедиться, что при каждом запуске формируется одна и та же матрица\n",
    "# потом измените номер генератора\n",
    "i = 5\n",
    "np.random.seed(i)\n",
    "rand_matrix = np.random.rand(3, 4)\n",
    "print(rand_matrix)"
   ]
  },
  {
   "cell_type": "markdown",
   "metadata": {
    "id": "4ervkSs-aJNq"
   },
   "source": [
    "### Изменение размерности массивов\n",
    "#### Получение одномерного вектора из многомерного массива (\"вытягивание\" в одну строку):\n",
    "\n",
    "> **<имя массива>.ravel()**\n",
    "\n",
    "#### Преобразование в массив заданной размерности:\n",
    "\n",
    "> **<имя массива>.reshape(количество элементов по измерениям)**\n",
    "\n",
    "По умолчанию элементы располагаются \"по строкам\" (сначала изменяется последний индекс\").\n",
    "\n",
    "[Документация функции](https://numpy.org/doc/stable/reference/generated/numpy.reshape.html)"
   ]
  },
  {
   "cell_type": "code",
   "execution_count": 20,
   "metadata": {
    "colab": {
     "base_uri": "https://localhost:8080/"
    },
    "id": "3RaKnSDybaz8",
    "outputId": "310ba049-cdae-449b-fbca-360cc82e25fc"
   },
   "outputs": [
    {
     "name": "stdout",
     "output_type": "stream",
     "text": [
      "Первоначальная матрица: \n",
      " [[1 2 3]\n",
      " [4 5 6]]\n",
      "Размерность: (2, 3)\n",
      "\n",
      "Преобразование в одномерный вектор: \n",
      " [1 2 3 4 5 6]\n",
      "Размерность: (6,)\n",
      "\n",
      "Преобразование к первоначальной размерности: \n",
      " [[1 2 3]\n",
      " [4 5 6]]\n",
      "Размерность: (2, 3)\n",
      "\n",
      "Преобразование к другой размерности: \n",
      " [[1 2]\n",
      " [3 4]\n",
      " [5 6]]\n",
      "Размерность: (3, 2)\n"
     ]
    }
   ],
   "source": [
    "matrix1 = np.array([[1, 2, 3], [4, 5, 6]]) # Создание двумерного массива\n",
    "print('Первоначальная матрица: \\n', matrix1)\n",
    "print('Размерность:', matrix1.shape)\n",
    "vect = matrix1.ravel() # преобразование в одномерный вектор\n",
    "print('\\nПреобразование в одномерный вектор: \\n', vect)\n",
    "print('Размерность:', vect.shape)\n",
    "matrix2 = vect.reshape(2, 3) # преобразование к первоначалной размерности\n",
    "print('\\nПреобразование к первоначальной размерности: \\n', matrix2)\n",
    "print('Размерность:', matrix2.shape)\n",
    "matrix3 = matrix2.reshape(3, 2) # преобразование к другой размерности\n",
    "print('\\nПреобразование к другой размерности: \\n', matrix3)\n",
    "print('Размерность:', matrix3.shape)"
   ]
  },
  {
   "cell_type": "markdown",
   "metadata": {
    "id": "x_CvF23bgDxZ"
   },
   "source": [
    "Если в аргументах reshape() по одной из осей указать -1, то количество элементов по этому измерению будет рассчитано программно.\n",
    "То же - относительно ravel()."
   ]
  },
  {
   "cell_type": "code",
   "execution_count": 21,
   "metadata": {
    "colab": {
     "base_uri": "https://localhost:8080/"
    },
    "id": "LVoxtVYdgUn2",
    "outputId": "1226f76f-96e7-4acd-8589-894acd281eb5"
   },
   "outputs": [
    {
     "name": "stdout",
     "output_type": "stream",
     "text": [
      "[[1 2]\n",
      " [3 4]\n",
      " [5 6]]\n",
      "(3, 2)\n"
     ]
    }
   ],
   "source": [
    "matrix4 = matrix2.reshape(3, -1) # преобразование к другой размерности с расчетом количества элементов по второй оси\n",
    "print(matrix4)\n",
    "print(matrix4.shape)"
   ]
  },
  {
   "cell_type": "markdown",
   "metadata": {
    "id": "xJG3Tw_ohmeJ"
   },
   "source": [
    "### Матричные операции над массивами\n",
    "#### Матричное умножение (по правилу \"строка на столбец\"):\n",
    "\n",
    "> **<Первый множитель>.dot(<Второй множитель>)**\n",
    "\n",
    "либо:\n",
    "\n",
    "> **np.dot(<Первый множитель>, <Второй множитель>)**\n",
    "\n",
    "либо:\n",
    "\n",
    "> **<Первый множитель> @ <Второй множитель>**"
   ]
  },
  {
   "cell_type": "code",
   "execution_count": 22,
   "metadata": {
    "colab": {
     "base_uri": "https://localhost:8080/"
    },
    "id": "PvOUvKQzi2UE",
    "outputId": "a7c718e4-1fc4-4a67-b914-f16ce533c24a"
   },
   "outputs": [
    {
     "name": "stdout",
     "output_type": "stream",
     "text": [
      "A =  [[0.44130922 0.15830987 0.87993703 0.27408646]\n",
      " [0.41423502 0.29607993 0.62878791 0.57983781]]\n",
      "B =  [[0.5999292 ]\n",
      " [0.26581912]\n",
      " [0.28468588]\n",
      " [0.25358821]]\n",
      "\n",
      "AB первым способом: \n",
      " [[0.62684682]\n",
      " [0.65326246]]\n",
      "AB вторым способом: \n",
      " [[0.62684682]\n",
      " [0.65326246]]\n",
      "AB третьим способом: \n",
      " [[0.62684682]\n",
      " [0.65326246]]\n"
     ]
    }
   ],
   "source": [
    "A = np.random.rand(2, 4)\n",
    "B = np.random.rand(4, 1)\n",
    "print(\"A = \", A)\n",
    "print(\"B = \", B)\n",
    "C1 = A.dot(B)\n",
    "print(\"\\nAB первым способом: \\n\", C1)\n",
    "C2 = np.dot(A, B)\n",
    "print(\"AB вторым способом: \\n\", C2)\n",
    "C3 = A @ B\n",
    "print(\"AB третьим способом: \\n\", C3)"
   ]
  },
  {
   "cell_type": "markdown",
   "metadata": {
    "id": "K_5fIN2TkeGT"
   },
   "source": [
    "#### Вычисление определителя квадратной матрицы.\n",
    "\n",
    "Функция det() из модуля linalg (в составе NumPy):\n",
    "\n",
    "> **np.linalg.det(<имя массива>)**\n",
    "\n",
    "[Документация функции](https://numpy.org/doc/stable/reference/generated/numpy.linalg.det.html#numpy.linalg.det)\n",
    "\n",
    "#### Вычисление обратной матрицы (для квадратной невырожденной матрицы).\n",
    "\n",
    "Функция inv() из модуля linalg:\n",
    "\n",
    "> **np.linalg.inv(<имя массива>)**\n",
    "\n",
    "[Документация функции](https://numpy.org/doc/stable/reference/generated/numpy.linalg.inv.html#numpy.linalg.inv)"
   ]
  },
  {
   "cell_type": "code",
   "execution_count": 23,
   "metadata": {
    "colab": {
     "base_uri": "https://localhost:8080/"
    },
    "id": "37QseNO6ldAC",
    "outputId": "4b321573-0a5f-4397-9695-04957bd625b3"
   },
   "outputs": [
    {
     "name": "stdout",
     "output_type": "stream",
     "text": [
      "A1 =  [[ 1  2 -3]\n",
      " [ 4 -5  6]\n",
      " [-7  8  9]]\n",
      "Определитель A1 =  -240.0000000000002\n",
      "A_inv =  [[0.3875     0.175      0.0125    ]\n",
      " [0.325      0.05       0.075     ]\n",
      " [0.0125     0.09166667 0.05416667]]\n",
      "\n",
      "Проверка : \n",
      " [[ 1.00000000e+00  0.00000000e+00 -2.08166817e-17]\n",
      " [ 9.02056208e-17  1.00000000e+00  9.71445147e-17]\n",
      " [ 2.46330734e-16  1.11022302e-16  1.00000000e+00]]\n"
     ]
    }
   ],
   "source": [
    "A1 = np.array([[1, 2, -3], [4, -5, 6], [-7, 8, 9]])\n",
    "print(\"A1 = \", A1)\n",
    "print(\"Определитель A1 = \", np.linalg.det(A1))\n",
    "A_inv = np.linalg.inv(A1)\n",
    "print(\"A_inv = \", A_inv)\n",
    "print(\"\\nПроверка : \\n\", A1 @ A_inv)"
   ]
  },
  {
   "cell_type": "code",
   "execution_count": 23,
   "metadata": {
    "id": "cQ0BNYeXsp_g"
   },
   "outputs": [],
   "source": []
  },
  {
   "cell_type": "markdown",
   "metadata": {
    "id": "gB6BCyGTqa0v"
   },
   "source": [
    "#### Применение агрегатных функций\n",
    "(вычисление суммы элементов, определение максимального/минимального элемента, определение статистических характеристик).\n",
    "\n",
    "Функции **np.sum()**, **np.max()**, **np.min()** и др.\n",
    "\n",
    "> **np.<имя функции>(<имя массива>, <измерение>, ...)**\n",
    "\n",
    "Измерение, по которому нужно выполнить операцию (просуммировать, найти максимум/минимум, ...) указывается с помощью параметра **axis**. Определяет, какая оси (оси) фиксируются при выполнении операции.\n",
    "\n",
    "Для двумерных массивов:\n",
    "\n",
    "*   axis=1  - выполнение операции по строкам (фиксируются номера столбцов);\n",
    "*   axis=0  - выполнение операции по столбцам (фиксируются номера строк);\n",
    "*   axis=None (по умолчанию)  - выполнение операции по всему массиву.\n",
    "\n",
    "\n",
    "[Документация функции sum()](https://numpy.org/doc/stable/reference/generated/numpy.sum.html)\n",
    "\n",
    "[Документация функции max()](https://numpy.org/doc/stable/reference/generated/numpy.max.html)\n",
    "\n",
    "[Документация функции min()](https://numpy.org/doc/stable/reference/generated/numpy.min.html#numpy.min)\n",
    "\n",
    "Определение индекса максимального/минимального элемента массива (по измерению): функции **argmax()**, **argmin()**\n",
    "\n",
    "[Документация argmax()](https://numpy.org/doc/stable/reference/generated/numpy.argmax.html#numpy.argmax)\n",
    "\n",
    "[Документация argmin()](https://numpy.org/doc/stable/reference/generated/numpy.argmin.html#numpy.argmin)"
   ]
  },
  {
   "cell_type": "code",
   "execution_count": 24,
   "metadata": {
    "colab": {
     "base_uri": "https://localhost:8080/"
    },
    "id": "xVhPrqwXuIZd",
    "outputId": "d8ce8c4b-0fc9-4d9a-9395-317528db3adc"
   },
   "outputs": [
    {
     "name": "stdout",
     "output_type": "stream",
     "text": [
      "A1 = \n",
      " [[ 1  2 -3]\n",
      " [ 4 -5  6]\n",
      " [-7  8  9]]\n",
      "Максимумы по столбцам:  [4 8 9]\n",
      "Индексы максимальных элементов:  [1 2 2]\n",
      "Сумма всех элементов матрицы:  15\n"
     ]
    }
   ],
   "source": [
    "print(\"A1 = \\n\", A1)\n",
    "print(\"Максимумы по столбцам: \", np.max(A1, axis=0))\n",
    "print(\"Индексы максимальных элементов: \", np.argmax(A1, axis=0))\n",
    "print(\"Сумма всех элементов матрицы: \", np.sum(A1))"
   ]
  },
  {
   "cell_type": "markdown",
   "metadata": {
    "id": "Ty7qz3egwqm0"
   },
   "source": [
    "### Объединение массивов\n",
    "#### По строкам (функция vstack()):\n",
    "\n",
    "> **np.vstack((<первый массив>, <второй массив>))**\n",
    "\n",
    "#### по столбцам (функция hstack()):\n",
    "\n",
    "> **np.hstack((<первый массив>, <второй массив>))**\n",
    "\n",
    "\n",
    "[Документация функции vstack](https://numpy.org/doc/stable/reference/generated/numpy.vstack.html)\n",
    "\n",
    "[Документация функции hstack](https://numpy.org/doc/stable/reference/generated/numpy.hstack.html)"
   ]
  },
  {
   "cell_type": "markdown",
   "metadata": {
    "id": "LnIL4Sm74G2D"
   },
   "source": [
    "#### Более общий функционал обеспечивает функция np.concatenate():\n",
    "\n",
    "> **np.concatenate((<первый массив>, <второй массив>, <измерение>, ...))**\n",
    "\n",
    "Ось, вдоль которой нужно выполнить объединение, указывается с помощью параметра **axis**.\n",
    "\n",
    "[Документация функции concatenate](https://numpy.org/doc/stable/reference/generated/numpy.concatenate.html#numpy.concatenate)"
   ]
  },
  {
   "cell_type": "code",
   "execution_count": 25,
   "metadata": {
    "colab": {
     "base_uri": "https://localhost:8080/"
    },
    "id": "99nxOre9x7dN",
    "outputId": "b568f560-c78c-45fe-aeeb-395c7648b5d7"
   },
   "outputs": [
    {
     "name": "stdout",
     "output_type": "stream",
     "text": [
      "Первый массив: \n",
      " [[1 2 3]\n",
      " [4 5 6]] (2, 3)\n",
      "Второй массив: \n",
      " [[7 8 9]] (1, 3)\n",
      "Объединение по строкам: \n",
      " [[1 2 3]\n",
      " [4 5 6]\n",
      " [7 8 9]]\n",
      "\n",
      "Первый массив: \n",
      " [[1 2 3]\n",
      " [4 5 6]] (2, 3)\n",
      "Второй массив: \n",
      " [[7]\n",
      " [8]] (2, 1)\n",
      "Объединение по столбцам: \n",
      " [[1 2 3 7]\n",
      " [4 5 6 8]]\n"
     ]
    }
   ],
   "source": [
    "# Применение vstack и hstack\n",
    "arr1 = np.array([[1, 2, 3], [4, 5, 6]])\n",
    "print(\"Первый массив: \\n\", arr1, arr1.shape)\n",
    "arr2 = np.array([7, 8, 9]).reshape(1, 3)  # reshape преобразует размерность (3,) в размерность (1, 3)\n",
    "print(\"Второй массив: \\n\", arr2, arr2.shape)\n",
    "print(\"Объединение по строкам: \\n\", np.vstack((arr1, arr2)))\n",
    "print(\"\\nПервый массив: \\n\", arr1, arr1.shape)\n",
    "arr3 = np.array([7, 8]).reshape(2, 1)  # reshape преобразует размерность (2,) в размерность (2, 1)\n",
    "print(\"Второй массив: \\n\", arr3, arr3.shape)\n",
    "print(\"Объединение по столбцам: \\n\", np.hstack((arr1, arr3)))"
   ]
  },
  {
   "cell_type": "code",
   "execution_count": 26,
   "metadata": {
    "colab": {
     "base_uri": "https://localhost:8080/"
    },
    "id": "_M3DsD1O37az",
    "outputId": "ac74e5b1-25d0-4903-b8ec-765d4d1b4e0c"
   },
   "outputs": [
    {
     "name": "stdout",
     "output_type": "stream",
     "text": [
      "Первый массив: \n",
      " [[1 2 3]\n",
      " [4 5 6]] (2, 3)\n",
      "Второй массив: \n",
      " [[7 8 9]] (1, 3)\n",
      "Объединение по строкам: \n",
      " [[1 2 3]\n",
      " [4 5 6]\n",
      " [7 8 9]]\n",
      "\n",
      "Первый массив: \n",
      " [[1 2 3]\n",
      " [4 5 6]] (2, 3)\n",
      "Второй массив: \n",
      " [[7]\n",
      " [8]] (2, 1)\n",
      "Объединение по столбцам: \n",
      " [[1 2 3 7]\n",
      " [4 5 6 8]]\n"
     ]
    }
   ],
   "source": [
    "# Применение concatenate\n",
    "print(\"Первый массив: \\n\", arr1, arr1.shape)\n",
    "print(\"Второй массив: \\n\", arr2, arr2.shape)\n",
    "print(\"Объединение по строкам: \\n\", np.concatenate((arr1, arr2), axis=0))\n",
    "print(\"\\nПервый массив: \\n\", arr1, arr1.shape)\n",
    "print(\"Второй массив: \\n\", arr3, arr3.shape)\n",
    "print(\"Объединение по столбцам: \\n\", np.concatenate((arr1, arr3), axis=1))"
   ]
  },
  {
   "cell_type": "markdown",
   "metadata": {
    "id": "zyUrK3KfYSwj"
   },
   "source": [
    "### Применение функции zip()\n",
    "Эта функция позволяет сформировать из нескольких массивов единый объект - итерируемый набор кортежей.\n",
    "\n",
    "> **zip(<первый массив>, <второй массив>, ...)**\n",
    "\n",
    "[Документация функции zip](https://docs.python.org/3/library/functions.html#zip)\n",
    "\n",
    "Вывести содержимое объекта zip напрямую нельзя. Нужно предварительно преобразовать его в список или массив"
   ]
  },
  {
   "cell_type": "markdown",
   "metadata": {
    "id": "cQRJsdE7clS9"
   },
   "source": [
    "**Пример**: формирование набора троек вида (<первый множитель>, <второй множитель>, <произведение>), где множители являются элементами заданных массивов"
   ]
  },
  {
   "cell_type": "code",
   "execution_count": 27,
   "metadata": {
    "colab": {
     "base_uri": "https://localhost:8080/"
    },
    "id": "zEiIpR6Xa0mr",
    "outputId": "a7374773-039a-49f1-df65-6a43800325cd"
   },
   "outputs": [
    {
     "name": "stdout",
     "output_type": "stream",
     "text": [
      "<class 'zip'>\n",
      "[(1, 5, 5), (2, 6, 12), (3, 7, 21), (4, 8, 32), (5, 9, 45), (6, 10, 60), (7, 11, 77), (8, 12, 96), (9, 13, 117), (10, 14, 140)]\n"
     ]
    }
   ],
   "source": [
    "a = np.arange(1, 11)                     # массив чисел - первые множители\n",
    "b = np.arange(5, 15)                     # массив чисел - вторые множители\n",
    "ab = a*b                                 # массив из произведений\n",
    "\n",
    "triples = zip(a, b, ab)                  # формирование объекта zip (набора кортежей указанного вида)\n",
    "print(type(triples))\n",
    "\n",
    "lst = [triple for triple in triples]     # формирование списка кортежей из объекта zip\n",
    "print(lst)"
   ]
  },
  {
   "cell_type": "markdown",
   "metadata": {
    "id": "n6k7vEHMuTeo"
   },
   "source": [
    "## Библиотека Scipy\n",
    "Содержит инструментарий высокоуровневых математических вычислений:\n",
    "- средства линейной алгебры (решение систем линейных уравнений, матричные разложения и т. д.) - модуль **linalg**;\n",
    "- методы оптимизации (методы градинтного спуска в разных вариантах, методы оптимизации недифференцируемых функций и т. д.) - модуль **optimize**;\n",
    "- методы статистической обработки данных - модуль **stats**;\n",
    "- и др.\n",
    "\n",
    "[Официальный сайт библиотеки](https://scipy.org/)\n",
    "\n",
    "[Руководство пользователя](https://docs.scipy.org/doc/scipy/tutorial/index.html#user-guide)"
   ]
  },
  {
   "cell_type": "markdown",
   "metadata": {
    "id": "myWPPU1C_Tzt"
   },
   "source": [
    "### Нахождение экстремумов функций - модуль **optimize**\n",
    "#### Импорт модуля:\n",
    "\n",
    "> **from scipy import optimize as <псевдоним>**\n",
    "\n",
    "#### Импорт только некоторых функций модуля:\n",
    "\n",
    "\n",
    "> **from scipy.optimize import <список имен функций>**"
   ]
  },
  {
   "cell_type": "markdown",
   "metadata": {
    "id": "Z96p3FKjEezz"
   },
   "source": [
    "#### Нахождение точки минимума функции - метод minimize():\n",
    "\n",
    "> **minimize(<имя функции>, <начальная точка>, ... )**\n",
    "\n",
    "\n",
    "Минимизируемая функция может быть функцией многих переменных (аргумент - массив numpy).\n",
    "Среди необязательных параметров метода **minimize**:\n",
    "- метод минимизации (по умолчанию - один из методов градиентного спуска);\n",
    "- методы вычисления градиента, матрицы Гессе (матрицы из вторых частных производных);\n",
    "- другие параметры, определяющие работу алгоритма построения последовательности значений, сходящихся (?) к точке минимума.\n",
    "\n",
    "Функция возвращает объект OptimizeResult, содержащий информацию о найденной точке минимума (координаты, значение функции в этой точке, вектор градиента и др.), число выполненных итераций, сообщение об успешности работы алгоритма и т. п.\n",
    "\n",
    "[Документация функции](https://docs.scipy.org/doc/scipy/reference/generated/scipy.optimize.minimize.html)"
   ]
  },
  {
   "cell_type": "code",
   "execution_count": 28,
   "metadata": {
    "colab": {
     "base_uri": "https://localhost:8080/"
    },
    "id": "L_PvWmHO_Tz1",
    "outputId": "b21fb358-8b2a-4fb0-8242-3b9afcdaeae6"
   },
   "outputs": [
    {
     "name": "stdout",
     "output_type": "stream",
     "text": [
      "  message: Optimization terminated successfully.\n",
      "  success: True\n",
      "   status: 0\n",
      "      fun: 3.054277897263091e-08\n",
      "        x: [-9.868e-01]\n",
      "      nit: 22\n",
      "      jac: [ 9.209e-06]\n",
      " hess_inv: [[ 1.998e+02]]\n",
      "     nfev: 46\n",
      "     njev: 23\n"
     ]
    }
   ],
   "source": [
    "from scipy import optimize as opt\n",
    "\n",
    "# Определение минимизируемой функции\n",
    "def f(x):\n",
    "    return x**4+4*x**3+6*x**2+4*x+1\n",
    "\n",
    "x_min = opt.minimize(f, 5)\n",
    "print(x_min)  # вывод информации о результатах оптимизации"
   ]
  },
  {
   "cell_type": "code",
   "execution_count": 29,
   "metadata": {
    "colab": {
     "base_uri": "https://localhost:8080/"
    },
    "id": "BnHa4Zg0_Tz1",
    "outputId": "fbc96f06-5242-488e-bb8a-e96907936d17"
   },
   "outputs": [
    {
     "name": "stdout",
     "output_type": "stream",
     "text": [
      "x_min:  [-0.98678013]\n",
      "f_min:  3.054277897263091e-08\n"
     ]
    }
   ],
   "source": [
    "# Вывод только точки минимума\n",
    "print('x_min: ', x_min.x)\n",
    "print('f_min: ', x_min.fun)"
   ]
  },
  {
   "cell_type": "code",
   "execution_count": 30,
   "metadata": {
    "colab": {
     "base_uri": "https://localhost:8080/"
    },
    "id": "vHy3e_RO_Tz1",
    "outputId": "5b3a7da0-6911-405d-cae4-0f9d4de7b42e"
   },
   "outputs": [
    {
     "name": "stdout",
     "output_type": "stream",
     "text": [
      "  message: Desired error not necessarily achieved due to precision loss.\n",
      "  success: False\n",
      "   status: 2\n",
      "      fun: 6.28864782470373e-09\n",
      "        x: [-6.289e-09]\n",
      "      nit: 1\n",
      "      jac: [ 1.560e-01]\n",
      " hess_inv: [[ 5.924e+00]]\n",
      "     nfev: 136\n",
      "     njev: 62\n"
     ]
    }
   ],
   "source": [
    "# Иллюстрация возможных проблем\n",
    "# Минимизируемая функция не дифференцируема в точке минимума\n",
    "\n",
    "import math\n",
    "def g(x):\n",
    "    return abs(x)\n",
    "\n",
    "x_min = opt.minimize(g, 5)\n",
    "print(x_min)"
   ]
  }
 ],
 "metadata": {
  "colab": {
   "provenance": []
  },
  "kernelspec": {
   "display_name": "Python 3 (ipykernel)",
   "language": "python",
   "name": "python3"
  },
  "language_info": {
   "codemirror_mode": {
    "name": "ipython",
    "version": 3
   },
   "file_extension": ".py",
   "mimetype": "text/x-python",
   "name": "python",
   "nbconvert_exporter": "python",
   "pygments_lexer": "ipython3",
   "version": "3.12.5"
  }
 },
 "nbformat": 4,
 "nbformat_minor": 4
}
